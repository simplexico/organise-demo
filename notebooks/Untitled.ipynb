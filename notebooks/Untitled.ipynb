{
 "cells": [
  {
   "cell_type": "code",
   "execution_count": 1,
   "id": "b260f098-cb60-44cc-b7f0-0383a3a24bb4",
   "metadata": {
    "pycharm": {
     "name": "#%%\n"
    },
    "tags": []
   },
   "outputs": [],
   "source": [
    "from pathlib import Path\n",
    "import pandas as pd\n",
    "pd.set_option('display.max_columns', None)\n",
    "pd.set_option('display.max_colwidth', None)"
   ]
  },
  {
   "cell_type": "code",
   "execution_count": 2,
   "id": "15a862e7-09da-48d2-acd5-9fab235ed451",
   "metadata": {
    "pycharm": {
     "name": "#%%\n"
    },
    "tags": []
   },
   "outputs": [],
   "source": [
    "df = pd.read_csv('../data/0_raw_data/master_clauses.csv')"
   ]
  },
  {
   "cell_type": "code",
   "execution_count": 3,
   "id": "2b389948-5e0c-4e71-9ed5-d2331edbf16a",
   "metadata": {
    "pycharm": {
     "name": "#%%\n"
    },
    "tags": []
   },
   "outputs": [],
   "source": [
    "df.sort_values(by='Filename', inplace=True)"
   ]
  },
  {
   "cell_type": "code",
   "execution_count": 4,
   "id": "247d868d-b842-4acd-a1b6-de74be7cc244",
   "metadata": {
    "pycharm": {
     "name": "#%%\n"
    },
    "tags": []
   },
   "outputs": [],
   "source": [
    "df['Document Name-Answer'] = df['Document Name-Answer'].apply(lambda x: x.lower())"
   ]
  },
  {
   "cell_type": "code",
   "execution_count": 5,
   "id": "38181855-5f8f-4248-aced-7fbf4e730613",
   "metadata": {
    "collapsed": true,
    "jupyter": {
     "outputs_hidden": true
    },
    "pycharm": {
     "name": "#%%\n"
    },
    "tags": []
   },
   "outputs": [
    {
     "data": {
      "text/plain": [
       "{'strategic alliance agreement': 28,\n",
       " 'sponsorship agreement': 25,\n",
       " 'endorsement agreement': 17,\n",
       " 'intellectual property agreement': 14,\n",
       " 'distributor agreement': 13,\n",
       " 'co-branding agreement': 13,\n",
       " 'joint filing agreement': 12,\n",
       " 'agency agreement': 12,\n",
       " 'supply agreement': 12,\n",
       " 'consulting agreement': 11,\n",
       " 'cooperation agreement': 10,\n",
       " 'outsourcing agreement': 9,\n",
       " 'collaboration agreement': 9,\n",
       " 'promotion agreement': 9,\n",
       " 'service agreement': 7,\n",
       " 'joint venture agreement': 7,\n",
       " 'services agreement': 7,\n",
       " 'reseller agreement': 6,\n",
       " 'franchise agreement': 6,\n",
       " 'content license agreement': 4,\n",
       " 'development agreement': 4,\n",
       " 'exclusive distributor agreement': 4,\n",
       " 'maintenance agreement': 4,\n",
       " 'manufacturing agreement': 4,\n",
       " 'operations and maintenance agreement': 3,\n",
       " 'software license and maintenance agreement': 3,\n",
       " 'distributorship agreement': 3,\n",
       " 'manufacturing and supply agreement': 3,\n",
       " 'license and hosting agreement': 3,\n",
       " 'trademark license agreement': 3,\n",
       " 'corporate sponsorship agreement': 2,\n",
       " 'support and maintenance agreement': 2,\n",
       " 'marketing affiliate agreement': 2,\n",
       " 'e-business hosting agreement': 2,\n",
       " 'domain name and content license agreement': 2,\n",
       " 'license and development agreement': 2,\n",
       " 'transportation contract': 2,\n",
       " 'master franchise agreement': 2,\n",
       " 'master supply agreement': 2,\n",
       " 'gas transportation agreement': 2,\n",
       " 'servicing agreement': 2,\n",
       " 'transportation services agreement': 2,\n",
       " 'license, development and commercialization agreement': 2,\n",
       " 'form of trademark license agreement': 2,\n",
       " 'remarketing agreement': 2,\n",
       " 'intellectual property agreement, d': 2,\n",
       " 'affiliate agreement': 2,\n",
       " 'co-branding agreement                                      (form)': 1,\n",
       " 'form of franchise agreement': 1,\n",
       " 'collaborative research, development and commercialization agreement': 1,\n",
       " '  content license agreement': 1,\n",
       " 'amended and restated remarketing agreement': 1,\n",
       " 'sample of non-disclosure and non-competition agreement': 1,\n",
       " 'non-competition and non-solicitation agreement': 1,\n",
       " 'split-dollar endorsement agreement': 1,\n",
       " 'broker dealer marketing and servicing agreement for variable annuity contracts': 1,\n",
       " 'recipe development agreement': 1,\n",
       " 'program content license agreement': 1,\n",
       " 'strategic alliance agreement, d': 1,\n",
       " 'software development agreement': 1,\n",
       " 'intellectual property rights agreement': 1,\n",
       " '  content license, marketing and sales agreement': 1,\n",
       " 'supplier/subcontractor contract': 1,\n",
       " 'co-development agreement': 1,\n",
       " 'manufacturing and supply agreement (da-9801 licensed products)': 1,\n",
       " 'statement of work - appendix a\\n\\nsoftware development agreement': 1,\n",
       " 'amendment #2 to the                              distribution agreement': 1,\n",
       " 'marketing agreement': 1,\n",
       " 'outsourcing base agreement': 1,\n",
       " 'marine transportation agreement': 1,\n",
       " 'master services agreement (': 1,\n",
       " 'joint venture agreemen': 1,\n",
       " 'master development and manufacturing agreement': 1,\n",
       " 'collaborative development and commercialization agreement': 1,\n",
       " '                content license agreement': 1,\n",
       " 'second amended and restated exclusive agency and marketing agreement': 1,\n",
       " 'endorsement licensing and co-branding agreement': 1,\n",
       " 'first amendment to                                                                           distributor agreement': 1,\n",
       " 'amendment                                      to the                               distributor agreement                                      between                                   ingram micro                                        and                                      netgear': 1,\n",
       " 'second amendment to co-branding agreement': 1,\n",
       " 'manufacturing outsourcing agreement': 1,\n",
       " 'collaboration & endorsement agreement': 1,\n",
       " 'gas franchise agreement': 1,\n",
       " 'asp and outsourcing agreement\\n\\norder form': 1,\n",
       " 'technology outsourcing agreement': 1,\n",
       " 'agents’ certificate': 1,\n",
       " 'amended and restated strategic licensing, distribution and marketing agreement': 1,\n",
       " 'master service agreement': 1,\n",
       " 'complehon agreement and uqitditv maintenance agreement': 1,\n",
       " 'mobile virtualnetwork enabler hosting agreement': 1,\n",
       " 'amendment to section 2, part b of the co-branding agreement': 1,\n",
       " 'transition services agreement': 1,\n",
       " 'co-branding and advertising agreement': 1,\n",
       " 'distribution and development agreement': 1,\n",
       " 'restated net investment income maintenance agreement,': 1,\n",
       " 'business affiliate agreement': 1,\n",
       " 'affiliate office agreement': 1,\n",
       " 'joint venture contract': 1,\n",
       " 'amended and restated unconditional capital maintenance agreement': 1,\n",
       " 'amendment and termination \\n\\nof \\n\\njoint venture agreement': 1,\n",
       " 'maintenance and support agreement': 1,\n",
       " 'joint filing statement': 1,\n",
       " 'non-competition agreement amendment no. 1': 1,\n",
       " 'transfer and servicing agreement, d': 1,\n",
       " 'joint supply and marketing agreement': 1,\n",
       " 'mobile application development agreement': 1,\n",
       " 'non-exclusive license agreement- for sales': 1,\n",
       " 'services and hosting agreement': 1,\n",
       " 'hosting agreement': 1,\n",
       " 'yield maintenance agreement': 1,\n",
       " 'non competition agreement and right of first offer': 1,\n",
       " 'promotion and distribution agreement': 1,\n",
       " 'intellectual property rights                 confidentiality and non-use obligations agreement': 1,\n",
       " 'media content and license agreement': 1,\n",
       " 'global master supply agreement': 1,\n",
       " 'sponsorship  agreement': 1,\n",
       " '                            content license agreement': 1,\n",
       " 'product sale and marketing agreement': 1,\n",
       " 'first amendment to sagebrush management and maintenance agreement': 1,\n",
       " 'manufacturing, design and marketing agreement (t': 1,\n",
       " 'united national bancorp enters into outsourcing agreement with the bisys group, inc.': 1,\n",
       " 'charter affiliate affiliation agreement': 1,\n",
       " 'marketing and reseller agreement': 1,\n",
       " 'strategic sales & marketing agreement': 1,\n",
       " 'unconditional capital maintenance agreement': 1,\n",
       " 'maintenance and support contract': 1,\n",
       " '\\xa0  fleet maintenance agreement': 1,\n",
       " 'construction and maintenance agreement': 1,\n",
       " '  cooperation agreement': 1,\n",
       " 'strategic alliance agreement is': 1,\n",
       " 'form of sub-reseller agreement': 1,\n",
       " 'addendum to \\n\\nzebra® partnerconnect distributor agreement': 1,\n",
       " 'nonexclusive value added distributor agreement': 1,\n",
       " 'software license agreement [v.08.05.03]': 1,\n",
       " 'amendment no. 3 to the nonexclusive value added distributor agreement': 1,\n",
       " 'business development agreement': 1,\n",
       " 'endorsement': 1,\n",
       " 'guarantees of master franchise agreement': 1,\n",
       " 'attachment c to master franchise agreement   multi-state addendum   california appendix': 1,\n",
       " 'addendum required by the department of law of the state of new york': 1,\n",
       " 'affiliate program / premium affiliate management general terms and conditions': 1,\n",
       " 'manifest system services and co-branding agreement': 1,\n",
       " 'asia pacific cable network 2 construction & maintenance agreement': 1,\n",
       " 'licence and maintenance agreement': 1,\n",
       " 'technical infrastructure maintenance agreement': 1,\n",
       " 'development agreement (“': 1,\n",
       " 'cooperation agreement (2014 amendment)': 1,\n",
       " 'transportation service agreement contract identification ft18150': 1,\n",
       " 'supply contract': 1,\n",
       " 'non-exclusive distributor agreement': 1,\n",
       " 'mutual termination agreement': 1,\n",
       " 'chase affiliate agreement': 1,\n",
       " 'services outsourcing agreement': 1,\n",
       " 'web site hosting agreement': 1,\n",
       " ' cooperation agreement ': 1,\n",
       " ' software license, customization and maintenance agreement': 1,\n",
       " 'customization schedule\\n\\nsoftware license, customization and maintenance agreement': 1,\n",
       " 'schedule to software license, customization and maintenance agreement': 1,\n",
       " 'product license schedule\\n\\nsoftware license, customization and maintenance agreement': 1,\n",
       " 'wholesale marketing agreement': 1,\n",
       " 'first amendment to supply and manufacturing agreement': 1,\n",
       " 'application development agreement': 1,\n",
       " 'amendment no. 2 to manufacturing and supply agreement': 1,\n",
       " 'commercialization and license agreement': 1,\n",
       " 'real estate education training program development agreement': 1,\n",
       " 'marketing and transportation services agreement': 1,\n",
       " 'online hosting agreement': 1,\n",
       " '                           content licensing agreement': 1,\n",
       " 'co-branding and services agreement': 1,\n",
       " 'network affiliate agreement': 1,\n",
       " 'co-promotion agreement': 1,\n",
       " 'network management outsourcing agreement': 1,\n",
       " 'cooperation agreement (': 1,\n",
       " 'transportation agreement': 1,\n",
       " 'license and reseller agreement': 1,\n",
       " 'franchise development agreement (non-exclusive/exclusive)': 1,\n",
       " '  reseller agreement': 1,\n",
       " 'master operation and maintenance agreement': 1,\n",
       " 'celebrity endorsement agreement': 1,\n",
       " 'amendment no. 3\\n\\n manufacturing agreement': 1,\n",
       " 'multiple linac and multi-modality distributor agreement': 1,\n",
       " 'amendment #3 to the manufacturing agreemen': 1,\n",
       " 'distributor agreement\\n\\ndistributor agreement': 1,\n",
       " 'site development and hosting agreement (': 1,\n",
       " 'transportation service agreement': 1,\n",
       " 'odm supply agreement': 1,\n",
       " 'joint content license agreement': 1,\n",
       " 'event sponsorship agreement': 1,\n",
       " 'jacksonville jaguars sponsorship agreement': 1,\n",
       " 'blockchain administration and development agreement': 1,\n",
       " 'sponsored research and license agreement': 1,\n",
       " 'network build and maintenance agreement ': 1,\n",
       " 'co-branding, marketing and distribution agreement': 1,\n",
       " 'global maintenance agreement (': 1,\n",
       " 'amendment n° 01   to the global maintenance agreement ref. ds/c-3957/14 issue 7': 1,\n",
       " 'premium managed hosting agreement': 1,\n",
       " 'co-hosting agreement': 1,\n",
       " 'first amendment': 1,\n",
       " 'service agreement for transfer agent services': 1,\n",
       " 'licensing and web site hosting agreement': 1,\n",
       " 'visp web site building and hosting agreement': 1,\n",
       " 'amendment no. 1\\n\\nmanufacturing agreement': 1,\n",
       " 'amendment no. 2 \\n\\nmanufacturing agreement': 1,\n",
       " 'consulting and product development agreement': 1,\n",
       " 'local programming and marketing agreement (wqht hd2)': 1,\n",
       " 'exclusive license and product development agreement': 1,\n",
       " 'walabot-home reseller agreement': 1,\n",
       " 'software maintenance agreement': 1,\n",
       " 'outsource technology development agreement': 1,\n",
       " 'software hosting agreement': 1,\n",
       " 'collaboration agreement (“': 1,\n",
       " '  strategic alliance agreement': 1,\n",
       " 'master joint development agreement': 1,\n",
       " 'form of content license agreement': 1,\n",
       " 'outsourcing contract on development of miaoli royal resort hotel': 1,\n",
       " 'turn - key manufacturing agreement': 1,\n",
       " 'distribution and services agreement': 1,\n",
       " 'product development and co-branding agreement': 1,\n",
       " 'channel partner reseller agreement': 1,\n",
       " 'franchise agreement\\n\\naddendum to lease agreement': 1,\n",
       " 'master services agreement': 1,\n",
       " 'exhibit ‘b’': 1,\n",
       " 'product manufacturing agreement': 1,\n",
       " 'joint development and marketing agreement': 1,\n",
       " 'exclusive   distributor  agreement': 1,\n",
       " 'internet channel cooperation agreement': 1,\n",
       " \"strategic' alliance agreement (\": 1,\n",
       " 'distributor  agreement': 1,\n",
       " 'distribution agreement': 1,\n",
       " 'talent endorsement agreement': 1,\n",
       " 'co-branding content agreement': 1,\n",
       " 'development and option agreement': 1,\n",
       " 'video-on-demand content license agreement': 1,\n",
       " 'photo retouching outsourcing agreement': 1,\n",
       " 'cologuard® promotion agreement': 1,\n",
       " 'amendment to services agreement': 1,\n",
       " 'limited power of attorney': 1,\n",
       " 'second amendment to services agreement': 1,\n",
       " 'collaboration agreement (“a': 1,\n",
       " 'website design, development and hosting agreement': 1,\n",
       " 'joint development agreement': 1,\n",
       " 'content distribution and license agreement': 1,\n",
       " 'web hosting agreement': 1,\n",
       " 'transportation contract  general conditions': 1,\n",
       " 'orderly marketing agreement': 1,\n",
       " 'wireless content license agreement': 1,\n",
       " 'amendment no. 1\\n\\nwireless content license agreement number 12965': 1,\n",
       " 'amendment no. 2\\n\\nwireless content license agreement number 12965': 1,\n",
       " 'amendment no. 3\\n\\nwireless content license agreement number 12965': 1,\n",
       " 'website content license agreement': 1,\n",
       " 'media license agreement': 1,\n",
       " 'sponsorship and services agreement': 1,\n",
       " 'endorsement agreement addendum i': 1,\n",
       " 'sponsorship and development agreement': 1,\n",
       " 'electronic journal soft ware development,                         hosting and management agreement': 1,\n",
       " 'escrow agreement': 1,\n",
       " 'sales, marketing, distribution, and supply agreement': 1,\n",
       " 'road transportation agreement': 1}"
      ]
     },
     "execution_count": 5,
     "metadata": {},
     "output_type": "execute_result"
    }
   ],
   "source": [
    "df['Document Name-Answer'].value_counts().to_dict()"
   ]
  },
  {
   "cell_type": "code",
   "execution_count": null,
   "outputs": [],
   "source": [
    "df.head()"
   ],
   "metadata": {
    "collapsed": false,
    "pycharm": {
     "name": "#%%\n"
    }
   }
  },
  {
   "cell_type": "code",
   "execution_count": null,
   "outputs": [],
   "source": [
    "txt_files_dir = Path('../data/0_raw_data/full_contract_txt/')\n",
    "txt_files = sorted(list(txt_files_dir.iterdir()))"
   ],
   "metadata": {
    "collapsed": false,
    "pycharm": {
     "name": "#%%\n"
    }
   }
  },
  {
   "cell_type": "code",
   "execution_count": 6,
   "id": "bc17d7a8-f9dc-4b82-8918-997acf2cb174",
   "metadata": {
    "pycharm": {
     "name": "#%%\n"
    }
   },
   "outputs": [],
   "source": [
    "txt_files_dir = Path('../data/0_raw_data/full_contract_txt/')\n",
    "txt_files = sorted(list(txt_files_dir.iterdir()))"
   ]
  },
  {
   "cell_type": "code",
   "execution_count": 7,
   "id": "babf360f-1246-43eb-b5d4-df8194ce52bb",
   "metadata": {
    "pycharm": {
     "name": "#%%\n"
    }
   },
   "outputs": [],
   "source": [
    "with txt_files[0].open() as f:\n",
    "    x = f.read()"
   ]
  },
  {
   "cell_type": "code",
   "execution_count": 8,
   "id": "cfe82164-64b4-4977-9a38-3bf639d6a881",
   "metadata": {
    "pycharm": {
     "name": "#%%\n"
    }
   },
   "outputs": [
    {
     "data": {
      "text/plain": [
       "510"
      ]
     },
     "execution_count": 8,
     "metadata": {},
     "output_type": "execute_result"
    }
   ],
   "source": [
    "len(txt_files)"
   ]
  },
  {
   "cell_type": "code",
   "execution_count": null,
   "id": "7a13314f",
   "metadata": {
    "collapsed": false,
    "jupyter": {
     "outputs_hidden": false
    },
    "pycharm": {
     "name": "#%%\n"
    }
   },
   "outputs": [],
   "source": [
    "txt_files = sorted(txt_files)"
   ]
  },
  {
   "cell_type": "markdown",
   "id": "963abedc",
   "metadata": {
    "pycharm": {
     "name": "#%% md\n"
    }
   },
   "source": [
    "## Load model"
   ]
  },
  {
   "cell_type": "code",
   "execution_count": null,
   "id": "6d6ba999",
   "metadata": {
    "collapsed": false,
    "jupyter": {
     "outputs_hidden": false
    },
    "pycharm": {
     "name": "#%%\n"
    }
   },
   "outputs": [],
   "source": [
    "from gensim.models import Doc2Vec\n",
    "from sklearn.decomposition import PCA"
   ]
  },
  {
   "cell_type": "code",
   "execution_count": null,
   "id": "a2fd15a0",
   "metadata": {
    "collapsed": false,
    "jupyter": {
     "outputs_hidden": false
    },
    "pycharm": {
     "name": "#%%\n"
    }
   },
   "outputs": [],
   "source": [
    "import cloudpickle\n",
    "from gensim.models import Doc2Vec\n",
    "from gensim.models.doc2vec import TaggedDocument\n",
    "\n",
    "def load_corpus(corpus_path: Path):\n",
    "    with corpus_path.open('rb') as f:\n",
    "        train_corpus = cloudpickle.load(f)\n",
    "    return train_corpus"
   ]
  },
  {
   "cell_type": "code",
   "execution_count": null,
   "id": "45784de7",
   "metadata": {
    "collapsed": false,
    "jupyter": {
     "outputs_hidden": false
    },
    "pycharm": {
     "name": "#%%\n"
    }
   },
   "outputs": [],
   "source": [
    "train_corpus = load_corpus(Path('../data/1_train_data/train-corpus-07-09-2022-17-40.pkl'))"
   ]
  },
  {
   "cell_type": "code",
   "execution_count": null,
   "id": "a3a997f5",
   "metadata": {
    "collapsed": false,
    "jupyter": {
     "outputs_hidden": false
    },
    "pycharm": {
     "name": "#%%\n"
    }
   },
   "outputs": [],
   "source": [
    "len(train_corpus)"
   ]
  },
  {
   "cell_type": "code",
   "execution_count": null,
   "id": "ea4117eb",
   "metadata": {
    "collapsed": false,
    "jupyter": {
     "outputs_hidden": false
    },
    "pycharm": {
     "name": "#%%\n"
    }
   },
   "outputs": [],
   "source": [
    "model = Doc2Vec.load('../models/doc2vec-07-09-2022-17-47.model')"
   ]
  },
  {
   "cell_type": "code",
   "execution_count": null,
   "id": "3dc24391",
   "metadata": {
    "collapsed": false,
    "jupyter": {
     "outputs_hidden": false
    },
    "pycharm": {
     "name": "#%%\n"
    }
   },
   "outputs": [],
   "source": [
    "model.dv['2ThemartComInc_19990826_10-12G_EX-10.10_6700288_EX-10.10_Co-Branding Agreement_ Agency Agreement']"
   ]
  },
  {
   "cell_type": "code",
   "execution_count": null,
   "id": "acc37891",
   "metadata": {
    "collapsed": false,
    "jupyter": {
     "outputs_hidden": false
    },
    "pycharm": {
     "name": "#%%\n"
    }
   },
   "outputs": [],
   "source": [
    "model.dv['ELECTRAMECCANICA VEHICLES CORP. - Manufacturing Agreement']"
   ]
  },
  {
   "cell_type": "code",
   "execution_count": null,
   "id": "07ef8fdb",
   "metadata": {
    "collapsed": false,
    "jupyter": {
     "outputs_hidden": false
    },
    "pycharm": {
     "name": "#%%\n"
    }
   },
   "outputs": [],
   "source": [
    "def reduce_vectors_to_2d(data):\n",
    "    tsne = TSNE(n_components=2, perplexity=100)\n",
    "    # pca = PCA(n_components=2)\n",
    "    reduced_vecs = pca.fit_transform(data)\n",
    "    return reduced_vecs"
   ]
  },
  {
   "cell_type": "code",
   "execution_count": null,
   "id": "888a120e",
   "metadata": {
    "collapsed": false,
    "jupyter": {
     "outputs_hidden": false
    },
    "pycharm": {
     "name": "#%%\n"
    }
   },
   "outputs": [],
   "source": [
    "model.docvecs[df['Filename'].iloc[0]]"
   ]
  },
  {
   "cell_type": "code",
   "execution_count": null,
   "id": "a950d1a3",
   "metadata": {
    "collapsed": false,
    "jupyter": {
     "outputs_hidden": false
    },
    "pycharm": {
     "name": "#%%\n"
    }
   },
   "outputs": [],
   "source": [
    "train_corpus[0]"
   ]
  },
  {
   "cell_type": "code",
   "execution_count": 43,
   "id": "7c9c6951-7028-480c-b285-4b911d206c0b",
   "metadata": {
    "pycharm": {
     "name": "#%%\n"
    }
   },
   "outputs": [
    {
     "data": {
      "text/plain": [
       "array([[-0.64019447,  0.08438781],\n",
       "       [-1.15463477, -0.63017898],\n",
       "       [-0.02284831,  0.14820528],\n",
       "       ...,\n",
       "       [-0.65521702,  0.32080653],\n",
       "       [-0.9508722 , -0.11866478],\n",
       "       [-0.04656224,  1.38646251]])"
      ]
     },
     "execution_count": 43,
     "metadata": {},
     "output_type": "execute_result"
    }
   ],
   "source": [
    "reduced_vecs"
   ]
  },
  {
   "cell_type": "code",
   "execution_count": 44,
   "id": "7d146bd7-2e7c-4b02-95c7-ffe0d9740bf9",
   "metadata": {
    "pycharm": {
     "name": "#%%\n"
    }
   },
   "outputs": [],
   "source": [
    "X, Y = zip(*reduced_vecs)"
   ]
  },
  {
   "cell_type": "code",
   "execution_count": 46,
   "id": "cef3e97c-4c14-444b-b3ed-b609e0910d36",
   "metadata": {
    "pycharm": {
     "name": "#%%\n"
    }
   },
   "outputs": [],
   "source": [
    "df['x_vector'] = X\n",
    "df['y_vector'] = Y"
   ]
  },
  {
   "cell_type": "code",
   "execution_count": 47,
   "id": "bf59231a-a372-46d9-a87e-f906bcdc449d",
   "metadata": {
    "pycharm": {
     "name": "#%%\n"
    }
   },
   "outputs": [],
   "source": [
    "import plotly.express as px"
   ]
  },
  {
   "cell_type": "code",
   "execution_count": 68,
   "id": "05898a2a-0db7-4d3e-97b1-9f6307c0ed56",
   "metadata": {
    "pycharm": {
     "name": "#%%\n"
    }
   },
   "outputs": [],
   "source": [
    "filter_list = ['strategic alliance agreement', 'sponsorship agreement', 'endorsement agreement', 'intellectual property agreement', 'distributor agreement',\n",
    "'co-branding agreement', 'joint filing agreement']"
   ]
  },
  {
   "cell_type": "code",
   "execution_count": 69,
   "id": "6be3eeed-2619-4663-9cfa-e828cb2f5e4f",
   "metadata": {
    "pycharm": {
     "name": "#%%\n"
    }
   },
   "outputs": [],
   "source": [
    "df_subset = df[df['Document Name-Answer'].isin(filter_list)]"
   ]
  },
  {
   "cell_type": "code",
   "execution_count": 70,
   "id": "a8a747da-f1d0-4c38-82d9-2c144fcd0f08",
   "metadata": {
    "pycharm": {
     "name": "#%%\n"
    },
    "tags": []
   },
   "outputs": [
    {
     "data": {
      "application/vnd.plotly.v1+json": {
       "config": {
        "plotlyServerURL": "https://plot.ly"
       },
       "data": [
        {
         "hovertemplate": "<b>%{hovertext}</b><br><br>Document Name-Answer=endorsement agreement<br>x_vector=%{x}<br>y_vector=%{y}<extra></extra>",
         "hovertext": [
          "ADAMSGOLFINC_03_21_2005-EX-10.17-ENDORSEMENT AGREEMENT.PDF",
          "AMBASSADOREYEWEARGROUPINC_11_17_1997-EX-10.28-ENDORSEMENT AGREEMENT.PDF",
          "BerkshireHillsBancorpInc_20120809_10-Q_EX-10.16_7708169_EX-10.16_Endorsement Agreement.pdf",
          "EcoScienceSolutionsInc_20171117_8-K_EX-10.1_10956472_EX-10.1_Endorsement Agreement.pdf",
          "GridironBionutrientsInc_20171206_8-K_EX-10.1_10972555_EX-10.1_Endorsement Agreement.pdf",
          "HOLIDAYRVSUPERSTORESINC_04_15_2002-EX-10.13-ENDORSEMENT AGREEMENT.PDF",
          "LifewayFoodsInc_20160316_10-K_EX-10.24_9489766_EX-10.24_Endorsement Agreement.pdf",
          "MARSHALLHOLDINGSINTERNATIONAL,INC_04_14_2004-EX-10.15-ENDORSEMENT AGREEMENT.PDF",
          "MOSSIMOINC_04_14_2000-EX-10.14-ENDORSEMENT AGREEMENT.PDF",
          "MOVADOGROUPINC_04_30_2003-EX-10.28-ENDORSEMENT AGREEMENT.PDF",
          "PapaJohnsInternationalInc_20190617_8-K_EX-10.1_11707365_EX-10.1_Endorsement Agreement.pdf",
          "PerformanceSportsBrandsInc_20110909_S-1_EX-10.10_7220214_EX-10.10_Endorsement Agreement.pdf",
          "PharmagenInc_20120803_8-KA_EX-10.1_7693204_EX-10.1_Endorsement Agreement.pdf",
          "SPORTHALEYINC_09_29_1997-EX-10.2-10-ENDORSEMENT AGREEMENT.PDF",
          "TEARDROPGOLFCO_10_23_1996-EX-10.12-ENDORSEMENT AGREEMENT.PDF",
          "WARNINGMANAGEMENTSERVICESINC_12_10_1999-EX-10-ENDORSEMENT AGREEMENT.PDF",
          "WOMENSGOLFUNLIMITEDINC_03_29_2000-EX-10.13-ENDORSEMENT AGREEMENT.PDF"
         ],
         "legendgroup": "endorsement agreement",
         "marker": {
          "color": "#636efa",
          "symbol": "circle"
         },
         "mode": "markers",
         "name": "endorsement agreement",
         "orientation": "v",
         "showlegend": true,
         "type": "scatter",
         "x": [
          -0.5452130444670845,
          -0.3879542342223533,
          -0.8322144049978532,
          -0.35184385835298965,
          -0.057424756439989476,
          -0.25053397900406404,
          -0.31791304152440664,
          -0.7287011424035061,
          -0.11983036648618679,
          0.4017999421097962,
          -0.5897235282136906,
          -0.46206941788713135,
          -0.3304111605708194,
          -0.21988390181106146,
          0.1581152267439605,
          -0.740873776897928,
          -0.8409799057553478
         ],
         "xaxis": "x",
         "y": [
          -0.7533650800847278,
          0.32657168030400513,
          -0.2401428810623083,
          -0.5321236816057873,
          1.0014255447825682,
          -1.097859382553261,
          -0.1652525309455754,
          -0.08836546412973438,
          0.08959945228897301,
          -1.395231409241336,
          -0.07287243506622722,
          -0.28571249598515547,
          -0.8267262108432141,
          -0.8471278179366137,
          0.3001194076272125,
          0.3279507120487929,
          -0.28429213517253266
         ],
         "yaxis": "y"
        },
        {
         "hovertemplate": "<b>%{hovertext}</b><br><br>Document Name-Answer=strategic alliance agreement<br>x_vector=%{x}<br>y_vector=%{y}<extra></extra>",
         "hovertext": [
          "ADAPTIMMUNETHERAPEUTICSPLC_04_06_2017-EX-10.11-STRATEGIC ALLIANCE AGREEMENT.PDF",
          "AURASYSTEMSINC_06_16_2010-EX-10.25-STRATEGIC ALLIANCE AGREEMENT.PDF",
          "CHERRYHILLMORTGAGEINVESTMENTCORP_09_26_2013-EX-10.1-Strategic Alliance Agreement.PDF",
          "CHIPMOSTECHNOLOGIESBERMUDALTD_04_18_2016-EX-4.72-Strategic Alliance Agreement.PDF",
          "COOLTECHNOLOGIES,INC_10_25_2017-EX-10.71-Strategic Alliance Agreement.PDF",
          "DUOSTECHNOLOGIESGROUP,INC_04_21_2009-EX-10.1-STRATEGIC ALLIANCE AGREEMENT.PDF",
          "ENERGOUSCORP_03_16_2017-EX-10.24-STRATEGIC ALLIANCE AGREEMENT.PDF",
          "ENTRUSTINC_07_24_1998-EX-10.5-STRATEGIC ALLIANCE AGREEMENT.PDF",
          "FTENETWORKS,INC_02_18_2016-EX-99.4-STRATEGIC ALLIANCE AGREEMENT.PDF",
          "GIGGLESN_HUGS,INC_06_23_2016-EX-10.2-STRATEGIC ALLIANCE AGREEMENT.PDF",
          "GOLDRESOURCECORP_12_11_2008-EX-10.1-STRATEGIC ALLIANCE AGREEMENT.PDF",
          "ICORECONNECTINC_10_13_2010-EX-7.1-Strategic Alliance Agreement.PDF",
          "INTELLIGENTHIGHWAYSOLUTIONS,INC_01_18_2018-EX-10.1-Strategic Alliance Agreement.PDF",
          "IOVANCEBIOTHERAPEUTICS,INC_08_03_2017-EX-10.1-STRATEGIC ALLIANCE AGREEMENT.PDF",
          "KALLOINC_11_03_2011-EX-10.1-STRATEGIC ALLIANCE AGREEMENT.PDF'",
          "MANAKOASERVICESCORP_11_21_2007-EX-7.5-STRATEGIC ALLIANCE AGREEMENT.PDF",
          "MOELIS&CO_03_24_2014-EX-10.19-STRATEGIC ALLIANCE AGREEMENT.PDF",
          "ORBSATCORP_08_17_2007-EX-7.3-STRATEGIC ALLIANCE AGREEMENT.PDF",
          "PHLVARIABLEINSURANCECOCT_08_17_2009-EX-10.1-STRATEGIC ALLIANCE AGREEMENT.PDF",
          "PHREESIA,INC_05_28_2019-EX-10.18-STRATEGIC ALLIANCE AGREEMENT.PDF",
          "PLAYAHOTELS&RESORTSNV_03_14_2017-EX-10.22-STRATEGIC ALLIANCE AGREEMENT (Hyatt Ziva Cancun).PDF",
          "REWALKROBOTICSLTD_07_10_2014-EX-10.2-STRATEGIC ALLIANCE AGREEMENT.PDF",
          "SIBANNAC,INC_12_04_2017-EX-2.1-Strategic Alliance Agreement.PDF",
          "TURNKEYCAPITAL,INC_07_20_2017-EX-1.1-Strategic Alliance Agreement.PDF",
          "USASYNTHETICFUELCORP_10_21_2010-EX-10.10-STRATEGIC ALLIANCE AGREEMENT.PDF",
          "VIRTUALSCOPICS,INC_11_12_2010-EX-10.1-STRATEGIC ALLIANCE AGREEMENT.PDF",
          "WASTE2ENERGYHOLDINGS,INC_06_03_2010-EX-10.2-STRATEGIC ALLIANCE AGREEMENT.PDF",
          "XLITECHNOLOGIES,INC_12_02_2015-EX-10.02-STRATEGIC ALLIANCE AGREEMENT.PDF"
         ],
         "legendgroup": "strategic alliance agreement",
         "marker": {
          "color": "#EF553B",
          "symbol": "circle"
         },
         "mode": "markers",
         "name": "strategic alliance agreement",
         "orientation": "v",
         "showlegend": true,
         "type": "scatter",
         "x": [
          -0.44732005056466745,
          -0.7675837495998411,
          -0.6465208414324087,
          0.4047399959920718,
          0.12402692768188948,
          -0.825512499350347,
          -1.0256050528646423,
          -0.3170997311970005,
          -0.8037759657299185,
          -0.6951102227805626,
          0.16326936756194094,
          -0.8614589248163422,
          0.9083288474678956,
          -0.34611237877973666,
          -0.8085217752652084,
          -0.14564631511126028,
          0.3504881392736234,
          -0.0638654172398415,
          -0.5762622664881085,
          -0.8184758540455068,
          0.11324536855026267,
          -0.28917882710827497,
          0.8517575730114046,
          0.2613187858787759,
          -0.46535912045066646,
          -0.15538257217655568,
          -0.497435961366216,
          0.6908115619776051
         ],
         "xaxis": "x",
         "y": [
          -0.12845353713794921,
          -0.25661300272576676,
          -1.1463671056543887,
          -0.6570195765696664,
          -0.6894107447511814,
          -0.5951306118311053,
          0.033778567547293754,
          0.017414270198120824,
          -0.5285823892413122,
          -0.7434131073215658,
          -1.7551452333199355,
          -0.1668767491389068,
          0.7364008625040434,
          -0.29860794094432225,
          1.0556211418481478,
          -1.0005289183069168,
          -0.6682118317316518,
          -0.6870882150163145,
          -0.8711643985166742,
          0.1418642960621591,
          -0.9944223899116249,
          -0.6433299573206454,
          0.819058571241063,
          -0.7281442884428329,
          -0.532901717218096,
          -0.057597873807098854,
          -0.8418079563018349,
          0.07355400270980349
         ],
         "yaxis": "y"
        },
        {
         "hovertemplate": "<b>%{hovertext}</b><br><br>Document Name-Answer=intellectual property agreement<br>x_vector=%{x}<br>y_vector=%{y}<extra></extra>",
         "hovertext": [
          "ARMSTRONGFLOORING,INC_01_07_2019-EX-10.2-INTELLECTUAL PROPERTY AGREEMENT.PDF",
          "ArmstrongFlooringInc_20190107_8-K_EX-10.2_11471795_EX-10.2_Intellectual Property Agreement.pdf",
          "BABCOCK_WILCOXENTERPRISES,INC_08_04_2015-EX-10.17-INTELLECTUAL PROPERTY AGREEMENT between THE BABCOCK _ WILCOX COMPANY and BABCOCK _ WILCOX ENTERPRISES, INC..PDF",
          "FIDELITYNATIONALINFORMATIONSERVICES,INC_08_05_2009-EX-10.3-INTELLECTUAL PROPERTY AGREEMENT.PDF",
          "GSITECHNOLOGYINC_11_16_2009-EX-10.2-INTELLECTUAL PROPERTY AGREEMENT between SONY ELECTRONICS INC. and GSI TECHNOLOGY, INC..PDF",
          "HERTZGLOBALHOLDINGS,INC_07_07_2016-EX-10.4-INTELLECTUAL PROPERTY AGREEMENT.PDF",
          "INGEVITYCORP_05_16_2016-EX-10.5-INTELLECTUAL PROPERTY AGREEMENT.PDF",
          "JINGWEIINTERNATIONALLTD_10_04_2007-EX-10.7-INTELLECTUAL PROPERTY AGREEMENT.PDF",
          "KNOWLABS,INC_08_15_2005-EX-10-INTELLECTUAL PROPERTY AGREEMENT.PDF",
          "MSCIINC_02_28_2008-EX-10.10-.PDF",
          "OTISWORLDWIDECORP_04_03_2020-EX-10.4-INTELLECTUAL PROPERTY AGREEMENT by and among UNITED TECHNOLOGIES CORPORATION, OTIS WORLDWIDE CORPORATION and CARRIER ~1.PDF",
          "PREMIERBIOMEDICALINC_05_14_2020-EX-10.2-INTELLECTUAL PROPERTY AGREEMENT.PDF",
          "VERSOTECHNOLOGIESINC_12_28_2007-EX-99.3-INTELLECTUAL PROPERTY AGREEMENT.PDF",
          "ZEBRATECHNOLOGIESCORP_04_16_2014-EX-10.1-INTELLECTUAL PROPERTY AGREEMENT.PDF"
         ],
         "legendgroup": "intellectual property agreement",
         "marker": {
          "color": "#00cc96",
          "symbol": "circle"
         },
         "mode": "markers",
         "name": "intellectual property agreement",
         "orientation": "v",
         "showlegend": true,
         "type": "scatter",
         "x": [
          -0.21152660060151543,
          -0.266925510595249,
          -0.30010465339546866,
          -0.5867102467000455,
          -1.3100510725047945,
          -0.0022122534722018024,
          -0.20498823503330554,
          -0.4929664251714678,
          -0.5358964752645491,
          -0.20896701942858428,
          -0.7212343513764014,
          -0.20638970884032648,
          1.341158620192667,
          -0.611937041260127
         ],
         "xaxis": "x",
         "y": [
          -1.0001675231190141,
          -0.6537880954468271,
          -0.9565349887674828,
          -0.45933470145168215,
          -0.2615492862859599,
          -0.5812231518175178,
          -1.03536636761118,
          0.7160430664193599,
          -0.7228071070895057,
          -1.1884482785178552,
          -1.5019976319685195,
          -0.2671214272872524,
          -1.5416057964863445,
          -0.07752616885260286
         ],
         "yaxis": "y"
        },
        {
         "hovertemplate": "<b>%{hovertext}</b><br><br>Document Name-Answer=joint filing agreement<br>x_vector=%{x}<br>y_vector=%{y}<extra></extra>",
         "hovertext": [
          "ATENTOSA_07_06_2020-EX-99.1-JOINT FILING AGREEMENT.PDF",
          "BLACKROCKMUNIHOLDINGSINVESTMENTQUALITYFUND_04_07_2020-EX-99.01-JOINT FILING AGREEMENT.PDF",
          "GALERATHERAPEUTICS,INC_02_14_2020-EX-99.A-JOINT FILING AGREEMENT.PDF",
          "MACY'S,INC_05_11_2020-EX-99.4-JOINT FILING AGREEMENT.PDF",
          "MFAFINANCIAL,INC_07_06_2020-EX-99.D-JOINT FILING AGREEMENT.PDF",
          "NELNETINC_04_08_2020-EX-1-JOINT FILING AGREEMENT.PDF",
          "ONEMAINHOLDINGS,INC_02_20_2020-EX-99.D-JOINT FILING AGREEMENT.PDF",
          "PRECIGEN,INC_01_22_2020-EX-99.1-JOINT FILING AGREEMENT.PDF",
          "QBIOMEDINC_04_08_2020-EX-99.1-JOINT FILING AGREEMENT.PDF",
          "RMRGROUPINC_01_22_2020-EX-99.1-JOINT FILING AGREEMENT.PDF",
          "SPRINGBANKPHARMACEUTICALS,INC_04_08_2020-EX-99.A-JOINT FILING AGREEMENT.PDF",
          "TALLGRASSENERGY,LP_02_20_2020-EX-99.26-JOINT FILING AGREEMENT.PDF"
         ],
         "legendgroup": "joint filing agreement",
         "marker": {
          "color": "#ab63fa",
          "symbol": "circle"
         },
         "mode": "markers",
         "name": "joint filing agreement",
         "orientation": "v",
         "showlegend": true,
         "type": "scatter",
         "x": [
          5.6843296540405275,
          3.595455849930711,
          5.399318957868997,
          4.149634588975032,
          6.541619804967967,
          2.558260569801346,
          7.87109778354791,
          5.017768562779761,
          5.876862415548537,
          3.0997911846762816,
          5.169321489801995,
          5.841114192001673
         ],
         "xaxis": "x",
         "y": [
          -1.8519821538414274,
          -0.1958775763313023,
          -1.6765344988081639,
          -0.829768621636803,
          -1.6516891417805406,
          -0.7700480853132948,
          -1.6610953214830055,
          0.2597858105384791,
          -1.3046291730867958,
          -0.4570147491382212,
          -0.8232473531726353,
          -1.5711772188078614
         ],
         "yaxis": "y"
        },
        {
         "hovertemplate": "<b>%{hovertext}</b><br><br>Document Name-Answer=distributor agreement<br>x_vector=%{x}<br>y_vector=%{y}<extra></extra>",
         "hovertext": [
          "BLACKBOXSTOCKSINC_08_05_2014-EX-10.1-DISTRIBUTOR AGREEMENT.PDF",
          "ENTERTAINMENTGAMINGASIAINC_02_15_2005-EX-10.5-DISTRIBUTOR AGREEMENT.PDF",
          "ETELOS,INC_03_09_2004-EX-10.8-DISTRIBUTOR AGREEMENT.PDF",
          "EUROPEANMICROHOLDINGSINC_03_06_1998-EX-10.6-DISTRIBUTOR AGREEMENT.PDF",
          "GentechHoldingsInc_20190808_1-A_EX1A-6 MAT CTRCT_11776814_EX1A-6 MAT CTRCT_Distributor Agreement.pdf",
          "LUCIDINC_04_15_2011-EX-10.9-DISTRIBUTOR AGREEMENT.PDF",
          "NANOPHASETECHNOLOGIESCORP_11_01_2005-EX-99.1-DISTRIBUTOR AGREEMENT.PDF",
          "NEOMEDIATECHNOLOGIESINC_12_15_2005-EX-16.1-DISTRIBUTOR AGREEMENT.PDF",
          "NEONSYSTEMSINC_03_01_1999-EX-10.5-DISTRIBUTOR AGREEMENT_New.pdf",
          "NETGEAR,INC_04_21_2003-EX-10.16-DISTRIBUTOR AGREEMENT.pdf",
          "OPTIMIZEDTRANSPORTATIONMANAGEMENT,INC_07_26_2000-EX-6.6-DISTRIBUTOR AGREEMENT.PDF",
          "PrecheckHealthServicesInc_20200320_8-K_EX-99.2_12070169_EX-99.2_Distributor Agreement.pdf",
          "VISIUMTECHNOLOGIES,INC_10_20_2004-EX-10.20-DISTRIBUTOR AGREEMENT.PDF"
         ],
         "legendgroup": "distributor agreement",
         "marker": {
          "color": "#FFA15A",
          "symbol": "circle"
         },
         "mode": "markers",
         "name": "distributor agreement",
         "orientation": "v",
         "showlegend": true,
         "type": "scatter",
         "x": [
          -1.333452771173437,
          -0.3722604287979739,
          -1.2142444416387224,
          -0.814471817593569,
          -0.9935286643696837,
          -0.7434307990337513,
          -0.7676169158820448,
          -0.28859473765147386,
          -0.8780791198555821,
          -0.27494543246629644,
          -0.00782160597607072,
          0.6534695899760993,
          -0.9302490868515094
         ],
         "xaxis": "x",
         "y": [
          -0.06319518007661189,
          0.2816480971287598,
          0.5665596578604325,
          0.617988532873414,
          0.2153558460245644,
          0.4569127988247704,
          -0.11976328282208921,
          0.38466125928575867,
          -0.07528555429520055,
          1.2354305842744384,
          1.5739060652746837,
          0.18203047299992348,
          1.0171308257454934
         ],
         "yaxis": "y"
        },
        {
         "hovertemplate": "<b>%{hovertext}</b><br><br>Document Name-Answer=sponsorship agreement<br>x_vector=%{x}<br>y_vector=%{y}<extra></extra>",
         "hovertext": [
          "CANOPETROLEUM,INC_12_13_2007-EX-10.1-Sponsorship Agreement.PDF",
          "DOMINIADVISORTRUST_02_18_2005-EX-99.(H)(2)-SPONSORSHIP AGREEMENT.PDF",
          "DRKOOPCOMINC_04_21_1999-EX-10.28-SPONSORSHIP AGREEMENT.PDF",
          "EcoScienceSolutionsInc_20180406_8-K_EX-10.1_11135398_EX-10.1_Sponsorship Agreement.pdf",
          "GAINSCOINC_01_21_2010-EX-10.41-SPONSORSHIP AGREEMENT.PDF",
          "GSVINC_05_15_1998-EX-10-SPONSORSHIP AGREEMENT.PDF",
          "HYDRONTECHNOLOGIESINC_03_31_1997-EX-10.47-SPONSORSHIP AGREEMENT.PDF",
          "IPAYMENT,INC_05_14_2007-EX-10.1-SPONSORSHIP AGREEMENT.PDF",
          "IVILLAGEINC_03_17_1999-EX-10.16-SPONSORSHIP AGREEMENT.PDF",
          "LOGANSROADHOUSEINC_03_27_1998-EX-10.17-SPONSORSHIP AGREEMENT.PDF",
          "LOOKSMARTLTD_07_20_2012-EX-99.(D)(I)-SPONSORSHIP AGREEMENT.PDF",
          "MERCATAINC_03_09_2000-EX-10.21-SPONSORSHIP AGREEMENT.PDF",
          "N2KINC_10_16_1997-EX-10.16-SPONSORSHIP AGREEMENT.PDF",
          "NATIONALPROCESSINGINC_07_18_1996-EX-10.4-SPONSORSHIP AGREEMENT.PDF",
          "NETGROCERINC_07_31_1998-EX-10.15-SPONSORSHIP AGREEMENT.PDF",
          "PACIFICSYSTEMSCONTROLTECHNOLOGYINC_08_24_2000-EX-10.53-SPONSORSHIP AGREEMENT.PDF",
          "PROLONGINTERNATIONALCORP_03_23_1998-EX-10.16-SPONSORSHIP AGREEMENT.PDF",
          "RUBIOSRESTAURANTSINC_03_31_2008-EX-10.75-SPONSORSHIP AGREEMENT.PDF",
          "SONUSCORP_03_12_1997-EX-10.11-SPONSORSHIP AGREEMENT.PDF",
          "STAMPSCOMINC_06_24_1999-EX-10.18-SPONSORSHIP AGREEMENT.PDF",
          "TICKETSCOMINC_06_22_1999-EX-10.22-SPONSORSHIP AGREEMENT.PDF",
          "VIOLINMEMORYINC_12_12_2012-EX-10.14-SPONSORSHIP AGREEMENT.PDF",
          "VITAMINSHOPPECOMINC_09_13_1999-EX-10.26-SPONSORSHIP AGREEMENT.PDF",
          "VNUE,INC_07_10_2015-EX-10.1-SPONSORSHIP AGREEMENT.PDF",
          "XLITECHNOLOGIES,INC_12_11_2015-EX-10.1-Sponsorship Agreement.PDF"
         ],
         "legendgroup": "sponsorship agreement",
         "marker": {
          "color": "#19d3f3",
          "symbol": "circle"
         },
         "mode": "markers",
         "name": "sponsorship agreement",
         "orientation": "v",
         "showlegend": true,
         "type": "scatter",
         "x": [
          -0.0729242715078011,
          0.9595781275697955,
          -0.7598303792016483,
          0.14941793166147294,
          0.20576300988895824,
          -0.06855213564025772,
          -0.010730749394876374,
          -0.7317439015023661,
          -0.6385900469060529,
          -0.44658334338076755,
          0.7198871201156851,
          -0.4163272120740886,
          -0.3104720669274509,
          0.29254166048970937,
          -0.08049725666360527,
          0.74947045013866,
          0.1288701623373573,
          -0.17060974010032756,
          -0.09323229118132675,
          -0.5257561884866492,
          -0.19711884996383294,
          -0.9190838541187019,
          0.20325952625812232,
          -0.6038636938465027,
          -0.22970789682282683
         ],
         "xaxis": "x",
         "y": [
          -0.46023817341311063,
          -1.920673102110344,
          0.04722139929579389,
          -0.2154080578800995,
          -0.5836448351337986,
          0.7884089932510349,
          -0.21642541909965857,
          -0.267972366663951,
          -0.024324959104602542,
          -0.8499097982735692,
          -1.6720854272213348,
          -0.4503615854816953,
          0.35442971340911844,
          -0.7526553315048458,
          0.6817325581782694,
          -1.6396303458072323,
          -0.8793474901753773,
          -0.37110879446836303,
          -1.5103829055441562,
          0.38465358936948585,
          0.5408367854959497,
          0.04107566146353209,
          0.9410643646966236,
          -0.22356556148869708,
          0.02859426916767516
         ],
         "yaxis": "y"
        },
        {
         "hovertemplate": "<b>%{hovertext}</b><br><br>Document Name-Answer=co-branding agreement<br>x_vector=%{x}<br>y_vector=%{y}<extra></extra>",
         "hovertext": [
          "EbixInc_20010515_10-Q_EX-10.3_4049767_EX-10.3_Co-Branding Agreement.pdf",
          "EdietsComInc_20001030_10QSB_EX-10.4_2606646_EX-10.4_Co-Branding Agreement.pdf",
          "EmbarkComInc_19991008_S-1A_EX-10.10_6487661_EX-10.10_Co-Branding Agreement.pdf",
          "ImpresseCorp_20000322_S-1A_EX-10.11_5199234_EX-10.11_Co-Branding Agreement.pdf",
          "InvendaCorp_20000828_S-1A_EX-10.2_2588206_EX-10.2_Co-Branding Agreement.pdf",
          "LeadersonlineInc_20000427_S-1A_EX-10.8_4991089_EX-10.8_Co-Branding Agreement.pdf",
          "MphaseTechnologiesInc_20030911_10-K_EX-10.15_1560667_EX-10.15_Co-Branding Agreement.pdf",
          "NeoformaInc_19991202_S-1A_EX-10.26_5224521_EX-10.26_Co-Branding Agreement.pdf",
          "PaperexchangeComInc_20000322_S-1A_EX-10.4_5202103_EX-10.4_Co-Branding Agreement.pdf",
          "PcquoteComInc_19990721_S-1A_EX-10.11_6377149_EX-10.11_Co-Branding Agreement1.pdf",
          "RandWorldwideInc_20010402_8-KA_EX-10.2_2102464_EX-10.2_Co-Branding Agreement.pdf",
          "TheglobeComInc_19990503_S-1A_EX-10.20_5416126_EX-10.20_Co-Branding Agreement.pdf",
          "TomOnlineInc_20060501_20-F_EX-4.46_749700_EX-4.46_Co-Branding Agreement.pdf"
         ],
         "legendgroup": "co-branding agreement",
         "marker": {
          "color": "#FF6692",
          "symbol": "circle"
         },
         "mode": "markers",
         "name": "co-branding agreement",
         "orientation": "v",
         "showlegend": true,
         "type": "scatter",
         "x": [
          -1.120340125282621,
          -0.3841706310087732,
          -0.19368826372925693,
          -0.7605611086490817,
          -0.901334274227984,
          -0.6293398009250407,
          -0.08727631050241856,
          -1.024938366848564,
          -1.0938477498877854,
          -0.07191852728371305,
          -0.7153326458057957,
          -1.0312787428717856,
          -0.5971563655894754
         ],
         "xaxis": "x",
         "y": [
          0.3584723944798092,
          1.1647983360533223,
          0.38304798305934346,
          -0.14119381669970832,
          1.0503100751711365,
          -0.13527779664199996,
          0.46074863562991814,
          0.107657671294453,
          0.21520001645976078,
          0.733334551220212,
          0.21630375936478735,
          0.7888470123411488,
          0.5965641290716547
         ],
         "yaxis": "y"
        }
       ],
       "layout": {
        "height": 1000,
        "legend": {
         "title": {
          "text": "Document Name-Answer"
         },
         "tracegroupgap": 0
        },
        "margin": {
         "t": 60
        },
        "template": {
         "data": {
          "bar": [
           {
            "error_x": {
             "color": "#2a3f5f"
            },
            "error_y": {
             "color": "#2a3f5f"
            },
            "marker": {
             "line": {
              "color": "#E5ECF6",
              "width": 0.5
             },
             "pattern": {
              "fillmode": "overlay",
              "size": 10,
              "solidity": 0.2
             }
            },
            "type": "bar"
           }
          ],
          "barpolar": [
           {
            "marker": {
             "line": {
              "color": "#E5ECF6",
              "width": 0.5
             },
             "pattern": {
              "fillmode": "overlay",
              "size": 10,
              "solidity": 0.2
             }
            },
            "type": "barpolar"
           }
          ],
          "carpet": [
           {
            "aaxis": {
             "endlinecolor": "#2a3f5f",
             "gridcolor": "white",
             "linecolor": "white",
             "minorgridcolor": "white",
             "startlinecolor": "#2a3f5f"
            },
            "baxis": {
             "endlinecolor": "#2a3f5f",
             "gridcolor": "white",
             "linecolor": "white",
             "minorgridcolor": "white",
             "startlinecolor": "#2a3f5f"
            },
            "type": "carpet"
           }
          ],
          "choropleth": [
           {
            "colorbar": {
             "outlinewidth": 0,
             "ticks": ""
            },
            "type": "choropleth"
           }
          ],
          "contour": [
           {
            "colorbar": {
             "outlinewidth": 0,
             "ticks": ""
            },
            "colorscale": [
             [
              0,
              "#0d0887"
             ],
             [
              0.1111111111111111,
              "#46039f"
             ],
             [
              0.2222222222222222,
              "#7201a8"
             ],
             [
              0.3333333333333333,
              "#9c179e"
             ],
             [
              0.4444444444444444,
              "#bd3786"
             ],
             [
              0.5555555555555556,
              "#d8576b"
             ],
             [
              0.6666666666666666,
              "#ed7953"
             ],
             [
              0.7777777777777778,
              "#fb9f3a"
             ],
             [
              0.8888888888888888,
              "#fdca26"
             ],
             [
              1,
              "#f0f921"
             ]
            ],
            "type": "contour"
           }
          ],
          "contourcarpet": [
           {
            "colorbar": {
             "outlinewidth": 0,
             "ticks": ""
            },
            "type": "contourcarpet"
           }
          ],
          "heatmap": [
           {
            "colorbar": {
             "outlinewidth": 0,
             "ticks": ""
            },
            "colorscale": [
             [
              0,
              "#0d0887"
             ],
             [
              0.1111111111111111,
              "#46039f"
             ],
             [
              0.2222222222222222,
              "#7201a8"
             ],
             [
              0.3333333333333333,
              "#9c179e"
             ],
             [
              0.4444444444444444,
              "#bd3786"
             ],
             [
              0.5555555555555556,
              "#d8576b"
             ],
             [
              0.6666666666666666,
              "#ed7953"
             ],
             [
              0.7777777777777778,
              "#fb9f3a"
             ],
             [
              0.8888888888888888,
              "#fdca26"
             ],
             [
              1,
              "#f0f921"
             ]
            ],
            "type": "heatmap"
           }
          ],
          "heatmapgl": [
           {
            "colorbar": {
             "outlinewidth": 0,
             "ticks": ""
            },
            "colorscale": [
             [
              0,
              "#0d0887"
             ],
             [
              0.1111111111111111,
              "#46039f"
             ],
             [
              0.2222222222222222,
              "#7201a8"
             ],
             [
              0.3333333333333333,
              "#9c179e"
             ],
             [
              0.4444444444444444,
              "#bd3786"
             ],
             [
              0.5555555555555556,
              "#d8576b"
             ],
             [
              0.6666666666666666,
              "#ed7953"
             ],
             [
              0.7777777777777778,
              "#fb9f3a"
             ],
             [
              0.8888888888888888,
              "#fdca26"
             ],
             [
              1,
              "#f0f921"
             ]
            ],
            "type": "heatmapgl"
           }
          ],
          "histogram": [
           {
            "marker": {
             "pattern": {
              "fillmode": "overlay",
              "size": 10,
              "solidity": 0.2
             }
            },
            "type": "histogram"
           }
          ],
          "histogram2d": [
           {
            "colorbar": {
             "outlinewidth": 0,
             "ticks": ""
            },
            "colorscale": [
             [
              0,
              "#0d0887"
             ],
             [
              0.1111111111111111,
              "#46039f"
             ],
             [
              0.2222222222222222,
              "#7201a8"
             ],
             [
              0.3333333333333333,
              "#9c179e"
             ],
             [
              0.4444444444444444,
              "#bd3786"
             ],
             [
              0.5555555555555556,
              "#d8576b"
             ],
             [
              0.6666666666666666,
              "#ed7953"
             ],
             [
              0.7777777777777778,
              "#fb9f3a"
             ],
             [
              0.8888888888888888,
              "#fdca26"
             ],
             [
              1,
              "#f0f921"
             ]
            ],
            "type": "histogram2d"
           }
          ],
          "histogram2dcontour": [
           {
            "colorbar": {
             "outlinewidth": 0,
             "ticks": ""
            },
            "colorscale": [
             [
              0,
              "#0d0887"
             ],
             [
              0.1111111111111111,
              "#46039f"
             ],
             [
              0.2222222222222222,
              "#7201a8"
             ],
             [
              0.3333333333333333,
              "#9c179e"
             ],
             [
              0.4444444444444444,
              "#bd3786"
             ],
             [
              0.5555555555555556,
              "#d8576b"
             ],
             [
              0.6666666666666666,
              "#ed7953"
             ],
             [
              0.7777777777777778,
              "#fb9f3a"
             ],
             [
              0.8888888888888888,
              "#fdca26"
             ],
             [
              1,
              "#f0f921"
             ]
            ],
            "type": "histogram2dcontour"
           }
          ],
          "mesh3d": [
           {
            "colorbar": {
             "outlinewidth": 0,
             "ticks": ""
            },
            "type": "mesh3d"
           }
          ],
          "parcoords": [
           {
            "line": {
             "colorbar": {
              "outlinewidth": 0,
              "ticks": ""
             }
            },
            "type": "parcoords"
           }
          ],
          "pie": [
           {
            "automargin": true,
            "type": "pie"
           }
          ],
          "scatter": [
           {
            "fillpattern": {
             "fillmode": "overlay",
             "size": 10,
             "solidity": 0.2
            },
            "type": "scatter"
           }
          ],
          "scatter3d": [
           {
            "line": {
             "colorbar": {
              "outlinewidth": 0,
              "ticks": ""
             }
            },
            "marker": {
             "colorbar": {
              "outlinewidth": 0,
              "ticks": ""
             }
            },
            "type": "scatter3d"
           }
          ],
          "scattercarpet": [
           {
            "marker": {
             "colorbar": {
              "outlinewidth": 0,
              "ticks": ""
             }
            },
            "type": "scattercarpet"
           }
          ],
          "scattergeo": [
           {
            "marker": {
             "colorbar": {
              "outlinewidth": 0,
              "ticks": ""
             }
            },
            "type": "scattergeo"
           }
          ],
          "scattergl": [
           {
            "marker": {
             "colorbar": {
              "outlinewidth": 0,
              "ticks": ""
             }
            },
            "type": "scattergl"
           }
          ],
          "scattermapbox": [
           {
            "marker": {
             "colorbar": {
              "outlinewidth": 0,
              "ticks": ""
             }
            },
            "type": "scattermapbox"
           }
          ],
          "scatterpolar": [
           {
            "marker": {
             "colorbar": {
              "outlinewidth": 0,
              "ticks": ""
             }
            },
            "type": "scatterpolar"
           }
          ],
          "scatterpolargl": [
           {
            "marker": {
             "colorbar": {
              "outlinewidth": 0,
              "ticks": ""
             }
            },
            "type": "scatterpolargl"
           }
          ],
          "scatterternary": [
           {
            "marker": {
             "colorbar": {
              "outlinewidth": 0,
              "ticks": ""
             }
            },
            "type": "scatterternary"
           }
          ],
          "surface": [
           {
            "colorbar": {
             "outlinewidth": 0,
             "ticks": ""
            },
            "colorscale": [
             [
              0,
              "#0d0887"
             ],
             [
              0.1111111111111111,
              "#46039f"
             ],
             [
              0.2222222222222222,
              "#7201a8"
             ],
             [
              0.3333333333333333,
              "#9c179e"
             ],
             [
              0.4444444444444444,
              "#bd3786"
             ],
             [
              0.5555555555555556,
              "#d8576b"
             ],
             [
              0.6666666666666666,
              "#ed7953"
             ],
             [
              0.7777777777777778,
              "#fb9f3a"
             ],
             [
              0.8888888888888888,
              "#fdca26"
             ],
             [
              1,
              "#f0f921"
             ]
            ],
            "type": "surface"
           }
          ],
          "table": [
           {
            "cells": {
             "fill": {
              "color": "#EBF0F8"
             },
             "line": {
              "color": "white"
             }
            },
            "header": {
             "fill": {
              "color": "#C8D4E3"
             },
             "line": {
              "color": "white"
             }
            },
            "type": "table"
           }
          ]
         },
         "layout": {
          "annotationdefaults": {
           "arrowcolor": "#2a3f5f",
           "arrowhead": 0,
           "arrowwidth": 1
          },
          "autotypenumbers": "strict",
          "coloraxis": {
           "colorbar": {
            "outlinewidth": 0,
            "ticks": ""
           }
          },
          "colorscale": {
           "diverging": [
            [
             0,
             "#8e0152"
            ],
            [
             0.1,
             "#c51b7d"
            ],
            [
             0.2,
             "#de77ae"
            ],
            [
             0.3,
             "#f1b6da"
            ],
            [
             0.4,
             "#fde0ef"
            ],
            [
             0.5,
             "#f7f7f7"
            ],
            [
             0.6,
             "#e6f5d0"
            ],
            [
             0.7,
             "#b8e186"
            ],
            [
             0.8,
             "#7fbc41"
            ],
            [
             0.9,
             "#4d9221"
            ],
            [
             1,
             "#276419"
            ]
           ],
           "sequential": [
            [
             0,
             "#0d0887"
            ],
            [
             0.1111111111111111,
             "#46039f"
            ],
            [
             0.2222222222222222,
             "#7201a8"
            ],
            [
             0.3333333333333333,
             "#9c179e"
            ],
            [
             0.4444444444444444,
             "#bd3786"
            ],
            [
             0.5555555555555556,
             "#d8576b"
            ],
            [
             0.6666666666666666,
             "#ed7953"
            ],
            [
             0.7777777777777778,
             "#fb9f3a"
            ],
            [
             0.8888888888888888,
             "#fdca26"
            ],
            [
             1,
             "#f0f921"
            ]
           ],
           "sequentialminus": [
            [
             0,
             "#0d0887"
            ],
            [
             0.1111111111111111,
             "#46039f"
            ],
            [
             0.2222222222222222,
             "#7201a8"
            ],
            [
             0.3333333333333333,
             "#9c179e"
            ],
            [
             0.4444444444444444,
             "#bd3786"
            ],
            [
             0.5555555555555556,
             "#d8576b"
            ],
            [
             0.6666666666666666,
             "#ed7953"
            ],
            [
             0.7777777777777778,
             "#fb9f3a"
            ],
            [
             0.8888888888888888,
             "#fdca26"
            ],
            [
             1,
             "#f0f921"
            ]
           ]
          },
          "colorway": [
           "#636efa",
           "#EF553B",
           "#00cc96",
           "#ab63fa",
           "#FFA15A",
           "#19d3f3",
           "#FF6692",
           "#B6E880",
           "#FF97FF",
           "#FECB52"
          ],
          "font": {
           "color": "#2a3f5f"
          },
          "geo": {
           "bgcolor": "white",
           "lakecolor": "white",
           "landcolor": "#E5ECF6",
           "showlakes": true,
           "showland": true,
           "subunitcolor": "white"
          },
          "hoverlabel": {
           "align": "left"
          },
          "hovermode": "closest",
          "mapbox": {
           "style": "light"
          },
          "paper_bgcolor": "white",
          "plot_bgcolor": "#E5ECF6",
          "polar": {
           "angularaxis": {
            "gridcolor": "white",
            "linecolor": "white",
            "ticks": ""
           },
           "bgcolor": "#E5ECF6",
           "radialaxis": {
            "gridcolor": "white",
            "linecolor": "white",
            "ticks": ""
           }
          },
          "scene": {
           "xaxis": {
            "backgroundcolor": "#E5ECF6",
            "gridcolor": "white",
            "gridwidth": 2,
            "linecolor": "white",
            "showbackground": true,
            "ticks": "",
            "zerolinecolor": "white"
           },
           "yaxis": {
            "backgroundcolor": "#E5ECF6",
            "gridcolor": "white",
            "gridwidth": 2,
            "linecolor": "white",
            "showbackground": true,
            "ticks": "",
            "zerolinecolor": "white"
           },
           "zaxis": {
            "backgroundcolor": "#E5ECF6",
            "gridcolor": "white",
            "gridwidth": 2,
            "linecolor": "white",
            "showbackground": true,
            "ticks": "",
            "zerolinecolor": "white"
           }
          },
          "shapedefaults": {
           "line": {
            "color": "#2a3f5f"
           }
          },
          "ternary": {
           "aaxis": {
            "gridcolor": "white",
            "linecolor": "white",
            "ticks": ""
           },
           "baxis": {
            "gridcolor": "white",
            "linecolor": "white",
            "ticks": ""
           },
           "bgcolor": "#E5ECF6",
           "caxis": {
            "gridcolor": "white",
            "linecolor": "white",
            "ticks": ""
           }
          },
          "title": {
           "x": 0.05
          },
          "xaxis": {
           "automargin": true,
           "gridcolor": "white",
           "linecolor": "white",
           "ticks": "",
           "title": {
            "standoff": 15
           },
           "zerolinecolor": "white",
           "zerolinewidth": 2
          },
          "yaxis": {
           "automargin": true,
           "gridcolor": "white",
           "linecolor": "white",
           "ticks": "",
           "title": {
            "standoff": 15
           },
           "zerolinecolor": "white",
           "zerolinewidth": 2
          }
         }
        },
        "width": 1000,
        "xaxis": {
         "anchor": "y",
         "autorange": true,
         "domain": [
          0,
          1
         ],
         "range": [
          -1.9103089961704889,
          8.447954008544961
         ],
         "title": {
          "text": "x_vector"
         },
         "type": "linear"
        },
        "yaxis": {
         "anchor": "x",
         "autorange": true,
         "domain": [
          0,
          1
         ],
         "range": [
          -2.1338127969247602,
          1.7870457600890999
         ],
         "title": {
          "text": "y_vector"
         },
         "type": "linear"
        }
       }
      },
      "image/png": "[encoded data removed]",
      "text/html": [
       "<div>                            <div id=\"31a05847-3c64-441e-a66b-2ad368e7c3d9\" class=\"plotly-graph-div\" style=\"height:1000px; width:1000px;\"></div>            <script type=\"text/javascript\">                require([\"plotly\"], function(Plotly) {                    window.PLOTLYENV=window.PLOTLYENV || {};                                    if (document.getElementById(\"31a05847-3c64-441e-a66b-2ad368e7c3d9\")) {                    Plotly.newPlot(                        \"31a05847-3c64-441e-a66b-2ad368e7c3d9\",                        [{\"hovertemplate\":\"<b>%{hovertext}</b><br><br>Document Name-Answer=endorsement agreement<br>x_vector=%{x}<br>y_vector=%{y}<extra></extra>\",\"hovertext\":[\"ADAMSGOLFINC_03_21_2005-EX-10.17-ENDORSEMENT AGREEMENT.PDF\",\"AMBASSADOREYEWEARGROUPINC_11_17_1997-EX-10.28-ENDORSEMENT AGREEMENT.PDF\",\"BerkshireHillsBancorpInc_20120809_10-Q_EX-10.16_7708169_EX-10.16_Endorsement Agreement.pdf\",\"EcoScienceSolutionsInc_20171117_8-K_EX-10.1_10956472_EX-10.1_Endorsement Agreement.pdf\",\"GridironBionutrientsInc_20171206_8-K_EX-10.1_10972555_EX-10.1_Endorsement Agreement.pdf\",\"HOLIDAYRVSUPERSTORESINC_04_15_2002-EX-10.13-ENDORSEMENT AGREEMENT.PDF\",\"LifewayFoodsInc_20160316_10-K_EX-10.24_9489766_EX-10.24_Endorsement Agreement.pdf\",\"MARSHALLHOLDINGSINTERNATIONAL,INC_04_14_2004-EX-10.15-ENDORSEMENT AGREEMENT.PDF\",\"MOSSIMOINC_04_14_2000-EX-10.14-ENDORSEMENT AGREEMENT.PDF\",\"MOVADOGROUPINC_04_30_2003-EX-10.28-ENDORSEMENT AGREEMENT.PDF\",\"PapaJohnsInternationalInc_20190617_8-K_EX-10.1_11707365_EX-10.1_Endorsement Agreement.pdf\",\"PerformanceSportsBrandsInc_20110909_S-1_EX-10.10_7220214_EX-10.10_Endorsement Agreement.pdf\",\"PharmagenInc_20120803_8-KA_EX-10.1_7693204_EX-10.1_Endorsement Agreement.pdf\",\"SPORTHALEYINC_09_29_1997-EX-10.2-10-ENDORSEMENT AGREEMENT.PDF\",\"TEARDROPGOLFCO_10_23_1996-EX-10.12-ENDORSEMENT AGREEMENT.PDF\",\"WARNINGMANAGEMENTSERVICESINC_12_10_1999-EX-10-ENDORSEMENT AGREEMENT.PDF\",\"WOMENSGOLFUNLIMITEDINC_03_29_2000-EX-10.13-ENDORSEMENT AGREEMENT.PDF\"],\"legendgroup\":\"endorsement agreement\",\"marker\":{\"color\":\"#636efa\",\"symbol\":\"circle\"},\"mode\":\"markers\",\"name\":\"endorsement agreement\",\"orientation\":\"v\",\"showlegend\":true,\"x\":[-0.5452130444670845,-0.3879542342223533,-0.8322144049978532,-0.35184385835298965,-0.057424756439989476,-0.25053397900406404,-0.31791304152440664,-0.7287011424035061,-0.11983036648618679,0.4017999421097962,-0.5897235282136906,-0.46206941788713135,-0.3304111605708194,-0.21988390181106146,0.1581152267439605,-0.740873776897928,-0.8409799057553478],\"xaxis\":\"x\",\"y\":[-0.7533650800847278,0.32657168030400513,-0.2401428810623083,-0.5321236816057873,1.0014255447825682,-1.097859382553261,-0.1652525309455754,-0.08836546412973438,0.08959945228897301,-1.395231409241336,-0.07287243506622722,-0.28571249598515547,-0.8267262108432141,-0.8471278179366137,0.3001194076272125,0.3279507120487929,-0.28429213517253266],\"yaxis\":\"y\",\"type\":\"scatter\"},{\"hovertemplate\":\"<b>%{hovertext}</b><br><br>Document Name-Answer=strategic alliance agreement<br>x_vector=%{x}<br>y_vector=%{y}<extra></extra>\",\"hovertext\":[\"ADAPTIMMUNETHERAPEUTICSPLC_04_06_2017-EX-10.11-STRATEGIC ALLIANCE AGREEMENT.PDF\",\"AURASYSTEMSINC_06_16_2010-EX-10.25-STRATEGIC ALLIANCE AGREEMENT.PDF\",\"CHERRYHILLMORTGAGEINVESTMENTCORP_09_26_2013-EX-10.1-Strategic Alliance Agreement.PDF\",\"CHIPMOSTECHNOLOGIESBERMUDALTD_04_18_2016-EX-4.72-Strategic Alliance Agreement.PDF\",\"COOLTECHNOLOGIES,INC_10_25_2017-EX-10.71-Strategic Alliance Agreement.PDF\",\"DUOSTECHNOLOGIESGROUP,INC_04_21_2009-EX-10.1-STRATEGIC ALLIANCE AGREEMENT.PDF\",\"ENERGOUSCORP_03_16_2017-EX-10.24-STRATEGIC ALLIANCE AGREEMENT.PDF\",\"ENTRUSTINC_07_24_1998-EX-10.5-STRATEGIC ALLIANCE AGREEMENT.PDF\",\"FTENETWORKS,INC_02_18_2016-EX-99.4-STRATEGIC ALLIANCE AGREEMENT.PDF\",\"GIGGLESN_HUGS,INC_06_23_2016-EX-10.2-STRATEGIC ALLIANCE AGREEMENT.PDF\",\"GOLDRESOURCECORP_12_11_2008-EX-10.1-STRATEGIC ALLIANCE AGREEMENT.PDF\",\"ICORECONNECTINC_10_13_2010-EX-7.1-Strategic Alliance Agreement.PDF\",\"INTELLIGENTHIGHWAYSOLUTIONS,INC_01_18_2018-EX-10.1-Strategic Alliance Agreement.PDF\",\"IOVANCEBIOTHERAPEUTICS,INC_08_03_2017-EX-10.1-STRATEGIC ALLIANCE AGREEMENT.PDF\",\"KALLOINC_11_03_2011-EX-10.1-STRATEGIC ALLIANCE AGREEMENT.PDF'\",\"MANAKOASERVICESCORP_11_21_2007-EX-7.5-STRATEGIC ALLIANCE AGREEMENT.PDF\",\"MOELIS&CO_03_24_2014-EX-10.19-STRATEGIC ALLIANCE AGREEMENT.PDF\",\"ORBSATCORP_08_17_2007-EX-7.3-STRATEGIC ALLIANCE AGREEMENT.PDF\",\"PHLVARIABLEINSURANCECOCT_08_17_2009-EX-10.1-STRATEGIC ALLIANCE AGREEMENT.PDF\",\"PHREESIA,INC_05_28_2019-EX-10.18-STRATEGIC ALLIANCE AGREEMENT.PDF\",\"PLAYAHOTELS&RESORTSNV_03_14_2017-EX-10.22-STRATEGIC ALLIANCE AGREEMENT (Hyatt Ziva Cancun).PDF\",\"REWALKROBOTICSLTD_07_10_2014-EX-10.2-STRATEGIC ALLIANCE AGREEMENT.PDF\",\"SIBANNAC,INC_12_04_2017-EX-2.1-Strategic Alliance Agreement.PDF\",\"TURNKEYCAPITAL,INC_07_20_2017-EX-1.1-Strategic Alliance Agreement.PDF\",\"USASYNTHETICFUELCORP_10_21_2010-EX-10.10-STRATEGIC ALLIANCE AGREEMENT.PDF\",\"VIRTUALSCOPICS,INC_11_12_2010-EX-10.1-STRATEGIC ALLIANCE AGREEMENT.PDF\",\"WASTE2ENERGYHOLDINGS,INC_06_03_2010-EX-10.2-STRATEGIC ALLIANCE AGREEMENT.PDF\",\"XLITECHNOLOGIES,INC_12_02_2015-EX-10.02-STRATEGIC ALLIANCE AGREEMENT.PDF\"],\"legendgroup\":\"strategic alliance agreement\",\"marker\":{\"color\":\"#EF553B\",\"symbol\":\"circle\"},\"mode\":\"markers\",\"name\":\"strategic alliance agreement\",\"orientation\":\"v\",\"showlegend\":true,\"x\":[-0.44732005056466745,-0.7675837495998411,-0.6465208414324087,0.4047399959920718,0.12402692768188948,-0.825512499350347,-1.0256050528646423,-0.3170997311970005,-0.8037759657299185,-0.6951102227805626,0.16326936756194094,-0.8614589248163422,0.9083288474678956,-0.34611237877973666,-0.8085217752652084,-0.14564631511126028,0.3504881392736234,-0.0638654172398415,-0.5762622664881085,-0.8184758540455068,0.11324536855026267,-0.28917882710827497,0.8517575730114046,0.2613187858787759,-0.46535912045066646,-0.15538257217655568,-0.497435961366216,0.6908115619776051],\"xaxis\":\"x\",\"y\":[-0.12845353713794921,-0.25661300272576676,-1.1463671056543887,-0.6570195765696664,-0.6894107447511814,-0.5951306118311053,0.033778567547293754,0.017414270198120824,-0.5285823892413122,-0.7434131073215658,-1.7551452333199355,-0.1668767491389068,0.7364008625040434,-0.29860794094432225,1.0556211418481478,-1.0005289183069168,-0.6682118317316518,-0.6870882150163145,-0.8711643985166742,0.1418642960621591,-0.9944223899116249,-0.6433299573206454,0.819058571241063,-0.7281442884428329,-0.532901717218096,-0.057597873807098854,-0.8418079563018349,0.07355400270980349],\"yaxis\":\"y\",\"type\":\"scatter\"},{\"hovertemplate\":\"<b>%{hovertext}</b><br><br>Document Name-Answer=intellectual property agreement<br>x_vector=%{x}<br>y_vector=%{y}<extra></extra>\",\"hovertext\":[\"ARMSTRONGFLOORING,INC_01_07_2019-EX-10.2-INTELLECTUAL PROPERTY AGREEMENT.PDF\",\"ArmstrongFlooringInc_20190107_8-K_EX-10.2_11471795_EX-10.2_Intellectual Property Agreement.pdf\",\"BABCOCK_WILCOXENTERPRISES,INC_08_04_2015-EX-10.17-INTELLECTUAL PROPERTY AGREEMENT between THE BABCOCK _ WILCOX COMPANY and BABCOCK _ WILCOX ENTERPRISES, INC..PDF\",\"FIDELITYNATIONALINFORMATIONSERVICES,INC_08_05_2009-EX-10.3-INTELLECTUAL PROPERTY AGREEMENT.PDF\",\"GSITECHNOLOGYINC_11_16_2009-EX-10.2-INTELLECTUAL PROPERTY AGREEMENT between SONY ELECTRONICS INC. and GSI TECHNOLOGY, INC..PDF\",\"HERTZGLOBALHOLDINGS,INC_07_07_2016-EX-10.4-INTELLECTUAL PROPERTY AGREEMENT.PDF\",\"INGEVITYCORP_05_16_2016-EX-10.5-INTELLECTUAL PROPERTY AGREEMENT.PDF\",\"JINGWEIINTERNATIONALLTD_10_04_2007-EX-10.7-INTELLECTUAL PROPERTY AGREEMENT.PDF\",\"KNOWLABS,INC_08_15_2005-EX-10-INTELLECTUAL PROPERTY AGREEMENT.PDF\",\"MSCIINC_02_28_2008-EX-10.10-.PDF\",\"OTISWORLDWIDECORP_04_03_2020-EX-10.4-INTELLECTUAL PROPERTY AGREEMENT by and among UNITED TECHNOLOGIES CORPORATION, OTIS WORLDWIDE CORPORATION and CARRIER ~1.PDF\",\"PREMIERBIOMEDICALINC_05_14_2020-EX-10.2-INTELLECTUAL PROPERTY AGREEMENT.PDF\",\"VERSOTECHNOLOGIESINC_12_28_2007-EX-99.3-INTELLECTUAL PROPERTY AGREEMENT.PDF\",\"ZEBRATECHNOLOGIESCORP_04_16_2014-EX-10.1-INTELLECTUAL PROPERTY AGREEMENT.PDF\"],\"legendgroup\":\"intellectual property agreement\",\"marker\":{\"color\":\"#00cc96\",\"symbol\":\"circle\"},\"mode\":\"markers\",\"name\":\"intellectual property agreement\",\"orientation\":\"v\",\"showlegend\":true,\"x\":[-0.21152660060151543,-0.266925510595249,-0.30010465339546866,-0.5867102467000455,-1.3100510725047945,-0.0022122534722018024,-0.20498823503330554,-0.4929664251714678,-0.5358964752645491,-0.20896701942858428,-0.7212343513764014,-0.20638970884032648,1.341158620192667,-0.611937041260127],\"xaxis\":\"x\",\"y\":[-1.0001675231190141,-0.6537880954468271,-0.9565349887674828,-0.45933470145168215,-0.2615492862859599,-0.5812231518175178,-1.03536636761118,0.7160430664193599,-0.7228071070895057,-1.1884482785178552,-1.5019976319685195,-0.2671214272872524,-1.5416057964863445,-0.07752616885260286],\"yaxis\":\"y\",\"type\":\"scatter\"},{\"hovertemplate\":\"<b>%{hovertext}</b><br><br>Document Name-Answer=joint filing agreement<br>x_vector=%{x}<br>y_vector=%{y}<extra></extra>\",\"hovertext\":[\"ATENTOSA_07_06_2020-EX-99.1-JOINT FILING AGREEMENT.PDF\",\"BLACKROCKMUNIHOLDINGSINVESTMENTQUALITYFUND_04_07_2020-EX-99.01-JOINT FILING AGREEMENT.PDF\",\"GALERATHERAPEUTICS,INC_02_14_2020-EX-99.A-JOINT FILING AGREEMENT.PDF\",\"MACY'S,INC_05_11_2020-EX-99.4-JOINT FILING AGREEMENT.PDF\",\"MFAFINANCIAL,INC_07_06_2020-EX-99.D-JOINT FILING AGREEMENT.PDF\",\"NELNETINC_04_08_2020-EX-1-JOINT FILING AGREEMENT.PDF\",\"ONEMAINHOLDINGS,INC_02_20_2020-EX-99.D-JOINT FILING AGREEMENT.PDF\",\"PRECIGEN,INC_01_22_2020-EX-99.1-JOINT FILING AGREEMENT.PDF\",\"QBIOMEDINC_04_08_2020-EX-99.1-JOINT FILING AGREEMENT.PDF\",\"RMRGROUPINC_01_22_2020-EX-99.1-JOINT FILING AGREEMENT.PDF\",\"SPRINGBANKPHARMACEUTICALS,INC_04_08_2020-EX-99.A-JOINT FILING AGREEMENT.PDF\",\"TALLGRASSENERGY,LP_02_20_2020-EX-99.26-JOINT FILING AGREEMENT.PDF\"],\"legendgroup\":\"joint filing agreement\",\"marker\":{\"color\":\"#ab63fa\",\"symbol\":\"circle\"},\"mode\":\"markers\",\"name\":\"joint filing agreement\",\"orientation\":\"v\",\"showlegend\":true,\"x\":[5.6843296540405275,3.595455849930711,5.399318957868997,4.149634588975032,6.541619804967967,2.558260569801346,7.87109778354791,5.017768562779761,5.876862415548537,3.0997911846762816,5.169321489801995,5.841114192001673],\"xaxis\":\"x\",\"y\":[-1.8519821538414274,-0.1958775763313023,-1.6765344988081639,-0.829768621636803,-1.6516891417805406,-0.7700480853132948,-1.6610953214830055,0.2597858105384791,-1.3046291730867958,-0.4570147491382212,-0.8232473531726353,-1.5711772188078614],\"yaxis\":\"y\",\"type\":\"scatter\"},{\"hovertemplate\":\"<b>%{hovertext}</b><br><br>Document Name-Answer=distributor agreement<br>x_vector=%{x}<br>y_vector=%{y}<extra></extra>\",\"hovertext\":[\"BLACKBOXSTOCKSINC_08_05_2014-EX-10.1-DISTRIBUTOR AGREEMENT.PDF\",\"ENTERTAINMENTGAMINGASIAINC_02_15_2005-EX-10.5-DISTRIBUTOR AGREEMENT.PDF\",\"ETELOS,INC_03_09_2004-EX-10.8-DISTRIBUTOR AGREEMENT.PDF\",\"EUROPEANMICROHOLDINGSINC_03_06_1998-EX-10.6-DISTRIBUTOR AGREEMENT.PDF\",\"GentechHoldingsInc_20190808_1-A_EX1A-6 MAT CTRCT_11776814_EX1A-6 MAT CTRCT_Distributor Agreement.pdf\",\"LUCIDINC_04_15_2011-EX-10.9-DISTRIBUTOR AGREEMENT.PDF\",\"NANOPHASETECHNOLOGIESCORP_11_01_2005-EX-99.1-DISTRIBUTOR AGREEMENT.PDF\",\"NEOMEDIATECHNOLOGIESINC_12_15_2005-EX-16.1-DISTRIBUTOR AGREEMENT.PDF\",\"NEONSYSTEMSINC_03_01_1999-EX-10.5-DISTRIBUTOR AGREEMENT_New.pdf\",\"NETGEAR,INC_04_21_2003-EX-10.16-DISTRIBUTOR AGREEMENT.pdf\",\"OPTIMIZEDTRANSPORTATIONMANAGEMENT,INC_07_26_2000-EX-6.6-DISTRIBUTOR AGREEMENT.PDF\",\"PrecheckHealthServicesInc_20200320_8-K_EX-99.2_12070169_EX-99.2_Distributor Agreement.pdf\",\"VISIUMTECHNOLOGIES,INC_10_20_2004-EX-10.20-DISTRIBUTOR AGREEMENT.PDF\"],\"legendgroup\":\"distributor agreement\",\"marker\":{\"color\":\"#FFA15A\",\"symbol\":\"circle\"},\"mode\":\"markers\",\"name\":\"distributor agreement\",\"orientation\":\"v\",\"showlegend\":true,\"x\":[-1.333452771173437,-0.3722604287979739,-1.2142444416387224,-0.814471817593569,-0.9935286643696837,-0.7434307990337513,-0.7676169158820448,-0.28859473765147386,-0.8780791198555821,-0.27494543246629644,-0.00782160597607072,0.6534695899760993,-0.9302490868515094],\"xaxis\":\"x\",\"y\":[-0.06319518007661189,0.2816480971287598,0.5665596578604325,0.617988532873414,0.2153558460245644,0.4569127988247704,-0.11976328282208921,0.38466125928575867,-0.07528555429520055,1.2354305842744384,1.5739060652746837,0.18203047299992348,1.0171308257454934],\"yaxis\":\"y\",\"type\":\"scatter\"},{\"hovertemplate\":\"<b>%{hovertext}</b><br><br>Document Name-Answer=sponsorship agreement<br>x_vector=%{x}<br>y_vector=%{y}<extra></extra>\",\"hovertext\":[\"CANOPETROLEUM,INC_12_13_2007-EX-10.1-Sponsorship Agreement.PDF\",\"DOMINIADVISORTRUST_02_18_2005-EX-99.(H)(2)-SPONSORSHIP AGREEMENT.PDF\",\"DRKOOPCOMINC_04_21_1999-EX-10.28-SPONSORSHIP AGREEMENT.PDF\",\"EcoScienceSolutionsInc_20180406_8-K_EX-10.1_11135398_EX-10.1_Sponsorship Agreement.pdf\",\"GAINSCOINC_01_21_2010-EX-10.41-SPONSORSHIP AGREEMENT.PDF\",\"GSVINC_05_15_1998-EX-10-SPONSORSHIP AGREEMENT.PDF\",\"HYDRONTECHNOLOGIESINC_03_31_1997-EX-10.47-SPONSORSHIP AGREEMENT.PDF\",\"IPAYMENT,INC_05_14_2007-EX-10.1-SPONSORSHIP AGREEMENT.PDF\",\"IVILLAGEINC_03_17_1999-EX-10.16-SPONSORSHIP AGREEMENT.PDF\",\"LOGANSROADHOUSEINC_03_27_1998-EX-10.17-SPONSORSHIP AGREEMENT.PDF\",\"LOOKSMARTLTD_07_20_2012-EX-99.(D)(I)-SPONSORSHIP AGREEMENT.PDF\",\"MERCATAINC_03_09_2000-EX-10.21-SPONSORSHIP AGREEMENT.PDF\",\"N2KINC_10_16_1997-EX-10.16-SPONSORSHIP AGREEMENT.PDF\",\"NATIONALPROCESSINGINC_07_18_1996-EX-10.4-SPONSORSHIP AGREEMENT.PDF\",\"NETGROCERINC_07_31_1998-EX-10.15-SPONSORSHIP AGREEMENT.PDF\",\"PACIFICSYSTEMSCONTROLTECHNOLOGYINC_08_24_2000-EX-10.53-SPONSORSHIP AGREEMENT.PDF\",\"PROLONGINTERNATIONALCORP_03_23_1998-EX-10.16-SPONSORSHIP AGREEMENT.PDF\",\"RUBIOSRESTAURANTSINC_03_31_2008-EX-10.75-SPONSORSHIP AGREEMENT.PDF\",\"SONUSCORP_03_12_1997-EX-10.11-SPONSORSHIP AGREEMENT.PDF\",\"STAMPSCOMINC_06_24_1999-EX-10.18-SPONSORSHIP AGREEMENT.PDF\",\"TICKETSCOMINC_06_22_1999-EX-10.22-SPONSORSHIP AGREEMENT.PDF\",\"VIOLINMEMORYINC_12_12_2012-EX-10.14-SPONSORSHIP AGREEMENT.PDF\",\"VITAMINSHOPPECOMINC_09_13_1999-EX-10.26-SPONSORSHIP AGREEMENT.PDF\",\"VNUE,INC_07_10_2015-EX-10.1-SPONSORSHIP AGREEMENT.PDF\",\"XLITECHNOLOGIES,INC_12_11_2015-EX-10.1-Sponsorship Agreement.PDF\"],\"legendgroup\":\"sponsorship agreement\",\"marker\":{\"color\":\"#19d3f3\",\"symbol\":\"circle\"},\"mode\":\"markers\",\"name\":\"sponsorship agreement\",\"orientation\":\"v\",\"showlegend\":true,\"x\":[-0.0729242715078011,0.9595781275697955,-0.7598303792016483,0.14941793166147294,0.20576300988895824,-0.06855213564025772,-0.010730749394876374,-0.7317439015023661,-0.6385900469060529,-0.44658334338076755,0.7198871201156851,-0.4163272120740886,-0.3104720669274509,0.29254166048970937,-0.08049725666360527,0.74947045013866,0.1288701623373573,-0.17060974010032756,-0.09323229118132675,-0.5257561884866492,-0.19711884996383294,-0.9190838541187019,0.20325952625812232,-0.6038636938465027,-0.22970789682282683],\"xaxis\":\"x\",\"y\":[-0.46023817341311063,-1.920673102110344,0.04722139929579389,-0.2154080578800995,-0.5836448351337986,0.7884089932510349,-0.21642541909965857,-0.267972366663951,-0.024324959104602542,-0.8499097982735692,-1.6720854272213348,-0.4503615854816953,0.35442971340911844,-0.7526553315048458,0.6817325581782694,-1.6396303458072323,-0.8793474901753773,-0.37110879446836303,-1.5103829055441562,0.38465358936948585,0.5408367854959497,0.04107566146353209,0.9410643646966236,-0.22356556148869708,0.02859426916767516],\"yaxis\":\"y\",\"type\":\"scatter\"},{\"hovertemplate\":\"<b>%{hovertext}</b><br><br>Document Name-Answer=co-branding agreement<br>x_vector=%{x}<br>y_vector=%{y}<extra></extra>\",\"hovertext\":[\"EbixInc_20010515_10-Q_EX-10.3_4049767_EX-10.3_Co-Branding Agreement.pdf\",\"EdietsComInc_20001030_10QSB_EX-10.4_2606646_EX-10.4_Co-Branding Agreement.pdf\",\"EmbarkComInc_19991008_S-1A_EX-10.10_6487661_EX-10.10_Co-Branding Agreement.pdf\",\"ImpresseCorp_20000322_S-1A_EX-10.11_5199234_EX-10.11_Co-Branding Agreement.pdf\",\"InvendaCorp_20000828_S-1A_EX-10.2_2588206_EX-10.2_Co-Branding Agreement.pdf\",\"LeadersonlineInc_20000427_S-1A_EX-10.8_4991089_EX-10.8_Co-Branding Agreement.pdf\",\"MphaseTechnologiesInc_20030911_10-K_EX-10.15_1560667_EX-10.15_Co-Branding Agreement.pdf\",\"NeoformaInc_19991202_S-1A_EX-10.26_5224521_EX-10.26_Co-Branding Agreement.pdf\",\"PaperexchangeComInc_20000322_S-1A_EX-10.4_5202103_EX-10.4_Co-Branding Agreement.pdf\",\"PcquoteComInc_19990721_S-1A_EX-10.11_6377149_EX-10.11_Co-Branding Agreement1.pdf\",\"RandWorldwideInc_20010402_8-KA_EX-10.2_2102464_EX-10.2_Co-Branding Agreement.pdf\",\"TheglobeComInc_19990503_S-1A_EX-10.20_5416126_EX-10.20_Co-Branding Agreement.pdf\",\"TomOnlineInc_20060501_20-F_EX-4.46_749700_EX-4.46_Co-Branding Agreement.pdf\"],\"legendgroup\":\"co-branding agreement\",\"marker\":{\"color\":\"#FF6692\",\"symbol\":\"circle\"},\"mode\":\"markers\",\"name\":\"co-branding agreement\",\"orientation\":\"v\",\"showlegend\":true,\"x\":[-1.120340125282621,-0.3841706310087732,-0.19368826372925693,-0.7605611086490817,-0.901334274227984,-0.6293398009250407,-0.08727631050241856,-1.024938366848564,-1.0938477498877854,-0.07191852728371305,-0.7153326458057957,-1.0312787428717856,-0.5971563655894754],\"xaxis\":\"x\",\"y\":[0.3584723944798092,1.1647983360533223,0.38304798305934346,-0.14119381669970832,1.0503100751711365,-0.13527779664199996,0.46074863562991814,0.107657671294453,0.21520001645976078,0.733334551220212,0.21630375936478735,0.7888470123411488,0.5965641290716547],\"yaxis\":\"y\",\"type\":\"scatter\"}],                        {\"template\":{\"data\":{\"histogram2dcontour\":[{\"type\":\"histogram2dcontour\",\"colorbar\":{\"outlinewidth\":0,\"ticks\":\"\"},\"colorscale\":[[0.0,\"#0d0887\"],[0.1111111111111111,\"#46039f\"],[0.2222222222222222,\"#7201a8\"],[0.3333333333333333,\"#9c179e\"],[0.4444444444444444,\"#bd3786\"],[0.5555555555555556,\"#d8576b\"],[0.6666666666666666,\"#ed7953\"],[0.7777777777777778,\"#fb9f3a\"],[0.8888888888888888,\"#fdca26\"],[1.0,\"#f0f921\"]]}],\"choropleth\":[{\"type\":\"choropleth\",\"colorbar\":{\"outlinewidth\":0,\"ticks\":\"\"}}],\"histogram2d\":[{\"type\":\"histogram2d\",\"colorbar\":{\"outlinewidth\":0,\"ticks\":\"\"},\"colorscale\":[[0.0,\"#0d0887\"],[0.1111111111111111,\"#46039f\"],[0.2222222222222222,\"#7201a8\"],[0.3333333333333333,\"#9c179e\"],[0.4444444444444444,\"#bd3786\"],[0.5555555555555556,\"#d8576b\"],[0.6666666666666666,\"#ed7953\"],[0.7777777777777778,\"#fb9f3a\"],[0.8888888888888888,\"#fdca26\"],[1.0,\"#f0f921\"]]}],\"heatmap\":[{\"type\":\"heatmap\",\"colorbar\":{\"outlinewidth\":0,\"ticks\":\"\"},\"colorscale\":[[0.0,\"#0d0887\"],[0.1111111111111111,\"#46039f\"],[0.2222222222222222,\"#7201a8\"],[0.3333333333333333,\"#9c179e\"],[0.4444444444444444,\"#bd3786\"],[0.5555555555555556,\"#d8576b\"],[0.6666666666666666,\"#ed7953\"],[0.7777777777777778,\"#fb9f3a\"],[0.8888888888888888,\"#fdca26\"],[1.0,\"#f0f921\"]]}],\"heatmapgl\":[{\"type\":\"heatmapgl\",\"colorbar\":{\"outlinewidth\":0,\"ticks\":\"\"},\"colorscale\":[[0.0,\"#0d0887\"],[0.1111111111111111,\"#46039f\"],[0.2222222222222222,\"#7201a8\"],[0.3333333333333333,\"#9c179e\"],[0.4444444444444444,\"#bd3786\"],[0.5555555555555556,\"#d8576b\"],[0.6666666666666666,\"#ed7953\"],[0.7777777777777778,\"#fb9f3a\"],[0.8888888888888888,\"#fdca26\"],[1.0,\"#f0f921\"]]}],\"contourcarpet\":[{\"type\":\"contourcarpet\",\"colorbar\":{\"outlinewidth\":0,\"ticks\":\"\"}}],\"contour\":[{\"type\":\"contour\",\"colorbar\":{\"outlinewidth\":0,\"ticks\":\"\"},\"colorscale\":[[0.0,\"#0d0887\"],[0.1111111111111111,\"#46039f\"],[0.2222222222222222,\"#7201a8\"],[0.3333333333333333,\"#9c179e\"],[0.4444444444444444,\"#bd3786\"],[0.5555555555555556,\"#d8576b\"],[0.6666666666666666,\"#ed7953\"],[0.7777777777777778,\"#fb9f3a\"],[0.8888888888888888,\"#fdca26\"],[1.0,\"#f0f921\"]]}],\"surface\":[{\"type\":\"surface\",\"colorbar\":{\"outlinewidth\":0,\"ticks\":\"\"},\"colorscale\":[[0.0,\"#0d0887\"],[0.1111111111111111,\"#46039f\"],[0.2222222222222222,\"#7201a8\"],[0.3333333333333333,\"#9c179e\"],[0.4444444444444444,\"#bd3786\"],[0.5555555555555556,\"#d8576b\"],[0.6666666666666666,\"#ed7953\"],[0.7777777777777778,\"#fb9f3a\"],[0.8888888888888888,\"#fdca26\"],[1.0,\"#f0f921\"]]}],\"mesh3d\":[{\"type\":\"mesh3d\",\"colorbar\":{\"outlinewidth\":0,\"ticks\":\"\"}}],\"scatter\":[{\"fillpattern\":{\"fillmode\":\"overlay\",\"size\":10,\"solidity\":0.2},\"type\":\"scatter\"}],\"parcoords\":[{\"type\":\"parcoords\",\"line\":{\"colorbar\":{\"outlinewidth\":0,\"ticks\":\"\"}}}],\"scatterpolargl\":[{\"type\":\"scatterpolargl\",\"marker\":{\"colorbar\":{\"outlinewidth\":0,\"ticks\":\"\"}}}],\"bar\":[{\"error_x\":{\"color\":\"#2a3f5f\"},\"error_y\":{\"color\":\"#2a3f5f\"},\"marker\":{\"line\":{\"color\":\"#E5ECF6\",\"width\":0.5},\"pattern\":{\"fillmode\":\"overlay\",\"size\":10,\"solidity\":0.2}},\"type\":\"bar\"}],\"scattergeo\":[{\"type\":\"scattergeo\",\"marker\":{\"colorbar\":{\"outlinewidth\":0,\"ticks\":\"\"}}}],\"scatterpolar\":[{\"type\":\"scatterpolar\",\"marker\":{\"colorbar\":{\"outlinewidth\":0,\"ticks\":\"\"}}}],\"histogram\":[{\"marker\":{\"pattern\":{\"fillmode\":\"overlay\",\"size\":10,\"solidity\":0.2}},\"type\":\"histogram\"}],\"scattergl\":[{\"type\":\"scattergl\",\"marker\":{\"colorbar\":{\"outlinewidth\":0,\"ticks\":\"\"}}}],\"scatter3d\":[{\"type\":\"scatter3d\",\"line\":{\"colorbar\":{\"outlinewidth\":0,\"ticks\":\"\"}},\"marker\":{\"colorbar\":{\"outlinewidth\":0,\"ticks\":\"\"}}}],\"scattermapbox\":[{\"type\":\"scattermapbox\",\"marker\":{\"colorbar\":{\"outlinewidth\":0,\"ticks\":\"\"}}}],\"scatterternary\":[{\"type\":\"scatterternary\",\"marker\":{\"colorbar\":{\"outlinewidth\":0,\"ticks\":\"\"}}}],\"scattercarpet\":[{\"type\":\"scattercarpet\",\"marker\":{\"colorbar\":{\"outlinewidth\":0,\"ticks\":\"\"}}}],\"carpet\":[{\"aaxis\":{\"endlinecolor\":\"#2a3f5f\",\"gridcolor\":\"white\",\"linecolor\":\"white\",\"minorgridcolor\":\"white\",\"startlinecolor\":\"#2a3f5f\"},\"baxis\":{\"endlinecolor\":\"#2a3f5f\",\"gridcolor\":\"white\",\"linecolor\":\"white\",\"minorgridcolor\":\"white\",\"startlinecolor\":\"#2a3f5f\"},\"type\":\"carpet\"}],\"table\":[{\"cells\":{\"fill\":{\"color\":\"#EBF0F8\"},\"line\":{\"color\":\"white\"}},\"header\":{\"fill\":{\"color\":\"#C8D4E3\"},\"line\":{\"color\":\"white\"}},\"type\":\"table\"}],\"barpolar\":[{\"marker\":{\"line\":{\"color\":\"#E5ECF6\",\"width\":0.5},\"pattern\":{\"fillmode\":\"overlay\",\"size\":10,\"solidity\":0.2}},\"type\":\"barpolar\"}],\"pie\":[{\"automargin\":true,\"type\":\"pie\"}]},\"layout\":{\"autotypenumbers\":\"strict\",\"colorway\":[\"#636efa\",\"#EF553B\",\"#00cc96\",\"#ab63fa\",\"#FFA15A\",\"#19d3f3\",\"#FF6692\",\"#B6E880\",\"#FF97FF\",\"#FECB52\"],\"font\":{\"color\":\"#2a3f5f\"},\"hovermode\":\"closest\",\"hoverlabel\":{\"align\":\"left\"},\"paper_bgcolor\":\"white\",\"plot_bgcolor\":\"#E5ECF6\",\"polar\":{\"bgcolor\":\"#E5ECF6\",\"angularaxis\":{\"gridcolor\":\"white\",\"linecolor\":\"white\",\"ticks\":\"\"},\"radialaxis\":{\"gridcolor\":\"white\",\"linecolor\":\"white\",\"ticks\":\"\"}},\"ternary\":{\"bgcolor\":\"#E5ECF6\",\"aaxis\":{\"gridcolor\":\"white\",\"linecolor\":\"white\",\"ticks\":\"\"},\"baxis\":{\"gridcolor\":\"white\",\"linecolor\":\"white\",\"ticks\":\"\"},\"caxis\":{\"gridcolor\":\"white\",\"linecolor\":\"white\",\"ticks\":\"\"}},\"coloraxis\":{\"colorbar\":{\"outlinewidth\":0,\"ticks\":\"\"}},\"colorscale\":{\"sequential\":[[0.0,\"#0d0887\"],[0.1111111111111111,\"#46039f\"],[0.2222222222222222,\"#7201a8\"],[0.3333333333333333,\"#9c179e\"],[0.4444444444444444,\"#bd3786\"],[0.5555555555555556,\"#d8576b\"],[0.6666666666666666,\"#ed7953\"],[0.7777777777777778,\"#fb9f3a\"],[0.8888888888888888,\"#fdca26\"],[1.0,\"#f0f921\"]],\"sequentialminus\":[[0.0,\"#0d0887\"],[0.1111111111111111,\"#46039f\"],[0.2222222222222222,\"#7201a8\"],[0.3333333333333333,\"#9c179e\"],[0.4444444444444444,\"#bd3786\"],[0.5555555555555556,\"#d8576b\"],[0.6666666666666666,\"#ed7953\"],[0.7777777777777778,\"#fb9f3a\"],[0.8888888888888888,\"#fdca26\"],[1.0,\"#f0f921\"]],\"diverging\":[[0,\"#8e0152\"],[0.1,\"#c51b7d\"],[0.2,\"#de77ae\"],[0.3,\"#f1b6da\"],[0.4,\"#fde0ef\"],[0.5,\"#f7f7f7\"],[0.6,\"#e6f5d0\"],[0.7,\"#b8e186\"],[0.8,\"#7fbc41\"],[0.9,\"#4d9221\"],[1,\"#276419\"]]},\"xaxis\":{\"gridcolor\":\"white\",\"linecolor\":\"white\",\"ticks\":\"\",\"title\":{\"standoff\":15},\"zerolinecolor\":\"white\",\"automargin\":true,\"zerolinewidth\":2},\"yaxis\":{\"gridcolor\":\"white\",\"linecolor\":\"white\",\"ticks\":\"\",\"title\":{\"standoff\":15},\"zerolinecolor\":\"white\",\"automargin\":true,\"zerolinewidth\":2},\"scene\":{\"xaxis\":{\"backgroundcolor\":\"#E5ECF6\",\"gridcolor\":\"white\",\"linecolor\":\"white\",\"showbackground\":true,\"ticks\":\"\",\"zerolinecolor\":\"white\",\"gridwidth\":2},\"yaxis\":{\"backgroundcolor\":\"#E5ECF6\",\"gridcolor\":\"white\",\"linecolor\":\"white\",\"showbackground\":true,\"ticks\":\"\",\"zerolinecolor\":\"white\",\"gridwidth\":2},\"zaxis\":{\"backgroundcolor\":\"#E5ECF6\",\"gridcolor\":\"white\",\"linecolor\":\"white\",\"showbackground\":true,\"ticks\":\"\",\"zerolinecolor\":\"white\",\"gridwidth\":2}},\"shapedefaults\":{\"line\":{\"color\":\"#2a3f5f\"}},\"annotationdefaults\":{\"arrowcolor\":\"#2a3f5f\",\"arrowhead\":0,\"arrowwidth\":1},\"geo\":{\"bgcolor\":\"white\",\"landcolor\":\"#E5ECF6\",\"subunitcolor\":\"white\",\"showland\":true,\"showlakes\":true,\"lakecolor\":\"white\"},\"title\":{\"x\":0.05},\"mapbox\":{\"style\":\"light\"}}},\"xaxis\":{\"anchor\":\"y\",\"domain\":[0.0,1.0],\"title\":{\"text\":\"x_vector\"}},\"yaxis\":{\"anchor\":\"x\",\"domain\":[0.0,1.0],\"title\":{\"text\":\"y_vector\"}},\"legend\":{\"title\":{\"text\":\"Document Name-Answer\"},\"tracegroupgap\":0},\"margin\":{\"t\":60},\"height\":1000,\"width\":1000},                        {\"responsive\": true}                    ).then(function(){\n",
       "                            \n",
       "var gd = document.getElementById('31a05847-3c64-441e-a66b-2ad368e7c3d9');\n",
       "var x = new MutationObserver(function (mutations, observer) {{\n",
       "        var display = window.getComputedStyle(gd).display;\n",
       "        if (!display || display === 'none') {{\n",
       "            console.log([gd, 'removed!']);\n",
       "            Plotly.purge(gd);\n",
       "            observer.disconnect();\n",
       "        }}\n",
       "}});\n",
       "\n",
       "// Listen for the removal of the full notebook cells\n",
       "var notebookContainer = gd.closest('#notebook-container');\n",
       "if (notebookContainer) {{\n",
       "    x.observe(notebookContainer, {childList: true});\n",
       "}}\n",
       "\n",
       "// Listen for the clearing of the current output cell\n",
       "var outputEl = gd.closest('.output');\n",
       "if (outputEl) {{\n",
       "    x.observe(outputEl, {childList: true});\n",
       "}}\n",
       "\n",
       "                        })                };                });            </script>        </div>"
      ]
     },
     "metadata": {},
     "output_type": "display_data"
    }
   ],
   "source": [
    "fig = px.scatter(df_subset, x='x_vector', y='y_vector', hover_name='Filename', color='Document Name-Answer', height=1000, width=1000)\n",
    "fig.show()"
   ]
  },
  {
   "cell_type": "code",
   "execution_count": null,
   "id": "fd3552a4-7d5f-4355-b5c3-45f99c4eaef7",
   "metadata": {
    "pycharm": {
     "name": "#%%\n"
    }
   },
   "outputs": [],
   "source": []
  }
 ],
 "metadata": {
  "kernelspec": {
   "display_name": "Python 3 (ipykernel)",
   "language": "python",
   "name": "python3"
  },
  "language_info": {
   "codemirror_mode": {
    "name": "ipython",
    "version": 3
   },
   "file_extension": ".py",
   "mimetype": "text/x-python",
   "name": "python",
   "nbconvert_exporter": "python",
   "pygments_lexer": "ipython3",
   "version": "3.10.4"
  }
 },
 "nbformat": 4,
 "nbformat_minor": 5
}